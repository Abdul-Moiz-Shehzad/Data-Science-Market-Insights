{
  "cells": [
    {
      "cell_type": "code",
      "execution_count": null,
      "metadata": {
        "id": "7UYZ4JgaE3Wc"
      },
      "outputs": [],
      "source": [
        "import pandas as pd"
      ]
    },
    {
      "cell_type": "code",
      "execution_count": null,
      "metadata": {
        "id": "4TzPUwXQE3Wd",
        "outputId": "e471f98d-8e2d-4382-ca10-fcf18dab6138"
      },
      "outputs": [
        {
          "data": {
            "text/html": [
              "<div>\n",
              "<style scoped>\n",
              "    .dataframe tbody tr th:only-of-type {\n",
              "        vertical-align: middle;\n",
              "    }\n",
              "\n",
              "    .dataframe tbody tr th {\n",
              "        vertical-align: top;\n",
              "    }\n",
              "\n",
              "    .dataframe thead th {\n",
              "        text-align: right;\n",
              "    }\n",
              "</style>\n",
              "<table border=\"1\" class=\"dataframe\">\n",
              "  <thead>\n",
              "    <tr style=\"text-align: right;\">\n",
              "      <th></th>\n",
              "      <th>Job Title</th>\n",
              "      <th>Salary Estimate</th>\n",
              "      <th>Job Description</th>\n",
              "      <th>Rating</th>\n",
              "      <th>Company Name</th>\n",
              "      <th>Location</th>\n",
              "      <th>Size</th>\n",
              "      <th>Founded</th>\n",
              "      <th>Type of ownership</th>\n",
              "      <th>Industry</th>\n",
              "      <th>...</th>\n",
              "      <th>Machine Learning</th>\n",
              "      <th>SQL</th>\n",
              "      <th>Computer Science</th>\n",
              "      <th>Deep Learning</th>\n",
              "      <th>Big Data/Spark</th>\n",
              "      <th>Visualization Tool</th>\n",
              "      <th>Data Science</th>\n",
              "      <th>Experience</th>\n",
              "      <th>Grade Required</th>\n",
              "      <th>Company Age</th>\n",
              "    </tr>\n",
              "  </thead>\n",
              "  <tbody>\n",
              "    <tr>\n",
              "      <th>0</th>\n",
              "      <td>Data Analytics</td>\n",
              "      <td>$38.00 - $45.00 Per Hour (Employer est.)</td>\n",
              "      <td>Minimum three years experience in data science...</td>\n",
              "      <td>3.9</td>\n",
              "      <td>J &amp; S Consulting</td>\n",
              "      <td>Tucker, GA</td>\n",
              "      <td>51 to 200 Employees</td>\n",
              "      <td>--</td>\n",
              "      <td>Company - Private</td>\n",
              "      <td>Information Technology Support Services</td>\n",
              "      <td>...</td>\n",
              "      <td>0</td>\n",
              "      <td>1</td>\n",
              "      <td>0</td>\n",
              "      <td>0</td>\n",
              "      <td>0</td>\n",
              "      <td>0</td>\n",
              "      <td>1</td>\n",
              "      <td>3</td>\n",
              "      <td>0</td>\n",
              "      <td>-1</td>\n",
              "    </tr>\n",
              "    <tr>\n",
              "      <th>1</th>\n",
              "      <td>Data Scientist</td>\n",
              "      <td>$120K - $130K (Employer est.)</td>\n",
              "      <td>Data science: 1 year (Preferred). Expertise in...</td>\n",
              "      <td>4.0</td>\n",
              "      <td>element technologies</td>\n",
              "      <td>Remote</td>\n",
              "      <td>51 to 200 Employees</td>\n",
              "      <td>2000</td>\n",
              "      <td>Company - Private</td>\n",
              "      <td>Information Technology Support Services</td>\n",
              "      <td>...</td>\n",
              "      <td>1</td>\n",
              "      <td>0</td>\n",
              "      <td>0</td>\n",
              "      <td>0</td>\n",
              "      <td>0</td>\n",
              "      <td>0</td>\n",
              "      <td>1</td>\n",
              "      <td>1</td>\n",
              "      <td>0</td>\n",
              "      <td>24</td>\n",
              "    </tr>\n",
              "    <tr>\n",
              "      <th>2</th>\n",
              "      <td>Data Scientist</td>\n",
              "      <td>$66.82 - $80.54 Per Hour (Employer est.)</td>\n",
              "      <td>End-to-end data and model pipeline deployment ...</td>\n",
              "      <td>4.4</td>\n",
              "      <td>Boston Technology</td>\n",
              "      <td>Malvern, PA</td>\n",
              "      <td>51 to 200 Employees</td>\n",
              "      <td>2004</td>\n",
              "      <td>Company - Private</td>\n",
              "      <td>Information Technology Support Services</td>\n",
              "      <td>...</td>\n",
              "      <td>1</td>\n",
              "      <td>0</td>\n",
              "      <td>0</td>\n",
              "      <td>0</td>\n",
              "      <td>1</td>\n",
              "      <td>0</td>\n",
              "      <td>0</td>\n",
              "      <td>-1</td>\n",
              "      <td>0</td>\n",
              "      <td>20</td>\n",
              "    </tr>\n",
              "    <tr>\n",
              "      <th>3</th>\n",
              "      <td>Data Engineer</td>\n",
              "      <td>$105K - $160K (Employer est.)</td>\n",
              "      <td>Communicates technical concepts to non-technic...</td>\n",
              "      <td>3.9</td>\n",
              "      <td>Costco Wholesale</td>\n",
              "      <td>Dallas, TX</td>\n",
              "      <td>10000+ Employees</td>\n",
              "      <td>1976</td>\n",
              "      <td>Company - Public</td>\n",
              "      <td>General Merchandise &amp; Superstores</td>\n",
              "      <td>...</td>\n",
              "      <td>1</td>\n",
              "      <td>0</td>\n",
              "      <td>0</td>\n",
              "      <td>0</td>\n",
              "      <td>0</td>\n",
              "      <td>0</td>\n",
              "      <td>0</td>\n",
              "      <td>-1</td>\n",
              "      <td>0</td>\n",
              "      <td>48</td>\n",
              "    </tr>\n",
              "    <tr>\n",
              "      <th>4</th>\n",
              "      <td>Data Science Co-Op</td>\n",
              "      <td>$84K - $109K (Glassdoor est.)</td>\n",
              "      <td>Work with source control tools like GIT to sav...</td>\n",
              "      <td>4.1</td>\n",
              "      <td>Hunter Engineering Company</td>\n",
              "      <td>Bridgeton, MO</td>\n",
              "      <td>1001 to 5000 Employees</td>\n",
              "      <td>1946</td>\n",
              "      <td>Company - Private</td>\n",
              "      <td>Machinery Manufacturing</td>\n",
              "      <td>...</td>\n",
              "      <td>1</td>\n",
              "      <td>0</td>\n",
              "      <td>1</td>\n",
              "      <td>0</td>\n",
              "      <td>0</td>\n",
              "      <td>0</td>\n",
              "      <td>0</td>\n",
              "      <td>-1</td>\n",
              "      <td>1</td>\n",
              "      <td>78</td>\n",
              "    </tr>\n",
              "  </tbody>\n",
              "</table>\n",
              "<p>5 rows × 33 columns</p>\n",
              "</div>"
            ],
            "text/plain": [
              "            Job Title                           Salary Estimate  \\\n",
              "0      Data Analytics  $38.00 - $45.00 Per Hour (Employer est.)   \n",
              "1      Data Scientist             $120K - $130K (Employer est.)   \n",
              "2      Data Scientist  $66.82 - $80.54 Per Hour (Employer est.)   \n",
              "3       Data Engineer             $105K - $160K (Employer est.)   \n",
              "4  Data Science Co-Op             $84K - $109K (Glassdoor est.)   \n",
              "\n",
              "                                     Job Description  Rating  \\\n",
              "0  Minimum three years experience in data science...     3.9   \n",
              "1  Data science: 1 year (Preferred). Expertise in...     4.0   \n",
              "2  End-to-end data and model pipeline deployment ...     4.4   \n",
              "3  Communicates technical concepts to non-technic...     3.9   \n",
              "4  Work with source control tools like GIT to sav...     4.1   \n",
              "\n",
              "                 Company Name       Location                    Size Founded  \\\n",
              "0            J & S Consulting     Tucker, GA     51 to 200 Employees      --   \n",
              "1        element technologies         Remote     51 to 200 Employees    2000   \n",
              "2           Boston Technology    Malvern, PA     51 to 200 Employees    2004   \n",
              "3            Costco Wholesale     Dallas, TX        10000+ Employees    1976   \n",
              "4  Hunter Engineering Company  Bridgeton, MO  1001 to 5000 Employees    1946   \n",
              "\n",
              "   Type of ownership                                 Industry  ...  \\\n",
              "0  Company - Private  Information Technology Support Services  ...   \n",
              "1  Company - Private  Information Technology Support Services  ...   \n",
              "2  Company - Private  Information Technology Support Services  ...   \n",
              "3   Company - Public        General Merchandise & Superstores  ...   \n",
              "4  Company - Private                  Machinery Manufacturing  ...   \n",
              "\n",
              "  Machine Learning SQL Computer Science  Deep Learning  Big Data/Spark  \\\n",
              "0                0   1                0              0               0   \n",
              "1                1   0                0              0               0   \n",
              "2                1   0                0              0               1   \n",
              "3                1   0                0              0               0   \n",
              "4                1   0                1              0               0   \n",
              "\n",
              "   Visualization Tool  Data Science  Experience  Grade Required Company Age  \n",
              "0                   0             1           3               0          -1  \n",
              "1                   0             1           1               0          24  \n",
              "2                   0             0          -1               0          20  \n",
              "3                   0             0          -1               0          48  \n",
              "4                   0             0          -1               1          78  \n",
              "\n",
              "[5 rows x 33 columns]"
            ]
          },
          "execution_count": 104,
          "metadata": {},
          "output_type": "execute_result"
        }
      ],
      "source": [
        "\n",
        "df=pd.read_csv(\"Data Science Jobs MAYBE.csv\")\n",
        "df.drop(\"Unnamed: 0\",axis=1,inplace=True)\n",
        "df.head()"
      ]
    },
    {
      "cell_type": "code",
      "execution_count": null,
      "metadata": {
        "id": "b9qu1e0TE3Wd",
        "outputId": "6cccb195-f0c2-4a06-edfc-6710ab4ed1a9"
      },
      "outputs": [
        {
          "data": {
            "text/html": [
              "<div>\n",
              "<style scoped>\n",
              "    .dataframe tbody tr th:only-of-type {\n",
              "        vertical-align: middle;\n",
              "    }\n",
              "\n",
              "    .dataframe tbody tr th {\n",
              "        vertical-align: top;\n",
              "    }\n",
              "\n",
              "    .dataframe thead th {\n",
              "        text-align: right;\n",
              "    }\n",
              "</style>\n",
              "<table border=\"1\" class=\"dataframe\">\n",
              "  <thead>\n",
              "    <tr style=\"text-align: right;\">\n",
              "      <th></th>\n",
              "      <th>Average Salary</th>\n",
              "      <th>Rating</th>\n",
              "      <th>Size</th>\n",
              "      <th>Type of ownership</th>\n",
              "      <th>Industry</th>\n",
              "      <th>Sector</th>\n",
              "      <th>Revenue</th>\n",
              "      <th>Employeer Estimate</th>\n",
              "      <th>State</th>\n",
              "      <th>Company Age</th>\n",
              "      <th>Analysis</th>\n",
              "      <th>Machine Learning</th>\n",
              "      <th>SQL</th>\n",
              "      <th>Computer Science</th>\n",
              "      <th>Deep Learning</th>\n",
              "      <th>Big Data/Spark</th>\n",
              "      <th>Visualization Tool</th>\n",
              "      <th>Data Science</th>\n",
              "      <th>Seniority</th>\n",
              "    </tr>\n",
              "  </thead>\n",
              "  <tbody>\n",
              "    <tr>\n",
              "      <th>0</th>\n",
              "      <td>83000.0</td>\n",
              "      <td>3.9</td>\n",
              "      <td>51 to 200 Employees</td>\n",
              "      <td>Company - Private</td>\n",
              "      <td>Information Technology Support Services</td>\n",
              "      <td>Information Technology</td>\n",
              "      <td>$5 to $25 million (USD)</td>\n",
              "      <td>1</td>\n",
              "      <td>GA</td>\n",
              "      <td>-1</td>\n",
              "      <td>0</td>\n",
              "      <td>0</td>\n",
              "      <td>1</td>\n",
              "      <td>0</td>\n",
              "      <td>0</td>\n",
              "      <td>0</td>\n",
              "      <td>0</td>\n",
              "      <td>1</td>\n",
              "      <td>Not Applicable</td>\n",
              "    </tr>\n",
              "    <tr>\n",
              "      <th>1</th>\n",
              "      <td>125000.0</td>\n",
              "      <td>4.0</td>\n",
              "      <td>51 to 200 Employees</td>\n",
              "      <td>Company - Private</td>\n",
              "      <td>Information Technology Support Services</td>\n",
              "      <td>Information Technology</td>\n",
              "      <td>Unknown / Non-Applicable</td>\n",
              "      <td>1</td>\n",
              "      <td>Remote</td>\n",
              "      <td>24</td>\n",
              "      <td>0</td>\n",
              "      <td>1</td>\n",
              "      <td>0</td>\n",
              "      <td>0</td>\n",
              "      <td>0</td>\n",
              "      <td>0</td>\n",
              "      <td>0</td>\n",
              "      <td>1</td>\n",
              "      <td>Mid-Level</td>\n",
              "    </tr>\n",
              "    <tr>\n",
              "      <th>2</th>\n",
              "      <td>147360.0</td>\n",
              "      <td>4.4</td>\n",
              "      <td>51 to 200 Employees</td>\n",
              "      <td>Company - Private</td>\n",
              "      <td>Information Technology Support Services</td>\n",
              "      <td>Information Technology</td>\n",
              "      <td>$5 to $25 million (USD)</td>\n",
              "      <td>1</td>\n",
              "      <td>AL</td>\n",
              "      <td>20</td>\n",
              "      <td>0</td>\n",
              "      <td>1</td>\n",
              "      <td>0</td>\n",
              "      <td>0</td>\n",
              "      <td>0</td>\n",
              "      <td>1</td>\n",
              "      <td>0</td>\n",
              "      <td>0</td>\n",
              "      <td>Mid-Level</td>\n",
              "    </tr>\n",
              "    <tr>\n",
              "      <th>3</th>\n",
              "      <td>132500.0</td>\n",
              "      <td>3.9</td>\n",
              "      <td>10000+ Employees</td>\n",
              "      <td>Company - Public</td>\n",
              "      <td>General Merchandise &amp; Superstores</td>\n",
              "      <td>Retail &amp; Wholesale</td>\n",
              "      <td>Unknown / Non-Applicable</td>\n",
              "      <td>1</td>\n",
              "      <td>AL</td>\n",
              "      <td>48</td>\n",
              "      <td>0</td>\n",
              "      <td>1</td>\n",
              "      <td>0</td>\n",
              "      <td>0</td>\n",
              "      <td>0</td>\n",
              "      <td>0</td>\n",
              "      <td>0</td>\n",
              "      <td>0</td>\n",
              "      <td>Mid-Level</td>\n",
              "    </tr>\n",
              "    <tr>\n",
              "      <th>4</th>\n",
              "      <td>96500.0</td>\n",
              "      <td>4.1</td>\n",
              "      <td>1001 to 5000 Employees</td>\n",
              "      <td>Company - Private</td>\n",
              "      <td>Machinery Manufacturing</td>\n",
              "      <td>Manufacturing</td>\n",
              "      <td>$500 million to $1 billion (USD)</td>\n",
              "      <td>0</td>\n",
              "      <td>ID</td>\n",
              "      <td>78</td>\n",
              "      <td>0</td>\n",
              "      <td>1</td>\n",
              "      <td>0</td>\n",
              "      <td>1</td>\n",
              "      <td>0</td>\n",
              "      <td>0</td>\n",
              "      <td>0</td>\n",
              "      <td>0</td>\n",
              "      <td>Not Applicable</td>\n",
              "    </tr>\n",
              "  </tbody>\n",
              "</table>\n",
              "</div>"
            ],
            "text/plain": [
              "   Average Salary  Rating                    Size  Type of ownership  \\\n",
              "0         83000.0     3.9     51 to 200 Employees  Company - Private   \n",
              "1        125000.0     4.0     51 to 200 Employees  Company - Private   \n",
              "2        147360.0     4.4     51 to 200 Employees  Company - Private   \n",
              "3        132500.0     3.9        10000+ Employees   Company - Public   \n",
              "4         96500.0     4.1  1001 to 5000 Employees  Company - Private   \n",
              "\n",
              "                                  Industry                  Sector  \\\n",
              "0  Information Technology Support Services  Information Technology   \n",
              "1  Information Technology Support Services  Information Technology   \n",
              "2  Information Technology Support Services  Information Technology   \n",
              "3        General Merchandise & Superstores      Retail & Wholesale   \n",
              "4                  Machinery Manufacturing           Manufacturing   \n",
              "\n",
              "                            Revenue  Employeer Estimate   State  Company Age  \\\n",
              "0           $5 to $25 million (USD)                   1      GA           -1   \n",
              "1          Unknown / Non-Applicable                   1  Remote           24   \n",
              "2           $5 to $25 million (USD)                   1      AL           20   \n",
              "3          Unknown / Non-Applicable                   1      AL           48   \n",
              "4  $500 million to $1 billion (USD)                   0      ID           78   \n",
              "\n",
              "   Analysis  Machine Learning  SQL  Computer Science  Deep Learning  \\\n",
              "0         0                 0    1                 0              0   \n",
              "1         0                 1    0                 0              0   \n",
              "2         0                 1    0                 0              0   \n",
              "3         0                 1    0                 0              0   \n",
              "4         0                 1    0                 1              0   \n",
              "\n",
              "   Big Data/Spark  Visualization Tool  Data Science       Seniority  \n",
              "0               0                   0             1  Not Applicable  \n",
              "1               0                   0             1       Mid-Level  \n",
              "2               1                   0             0       Mid-Level  \n",
              "3               0                   0             0       Mid-Level  \n",
              "4               0                   0             0  Not Applicable  "
            ]
          },
          "execution_count": 105,
          "metadata": {},
          "output_type": "execute_result"
        }
      ],
      "source": [
        "df=df[[\"Average Salary\",\"Rating\",\"Size\",\"Type of ownership\",\"Industry\",\"Sector\",\"Revenue\",\"Employeer Estimate\",\"State\",\"Company Age\",'Analysis','Machine Learning', 'SQL', 'Computer Science', 'Deep Learning','Big Data/Spark', 'Visualization Tool', 'Data Science',\"Seniority\"]]\n",
        "df.head()"
      ]
    },
    {
      "cell_type": "markdown",
      "metadata": {
        "id": "8_8TIm0dE3Wd"
      },
      "source": [
        "# Preprocess for modelling"
      ]
    },
    {
      "cell_type": "code",
      "execution_count": null,
      "metadata": {
        "id": "nypNE-ajE3We"
      },
      "outputs": [],
      "source": [
        "from sklearn.preprocessing import StandardScaler\n",
        "from sklearn.model_selection import train_test_split\n",
        "from sklearn.linear_model import Ridge\n",
        "from sklearn.metrics import mean_squared_error\n",
        "import pandas as pd\n",
        "\n",
        "scaler_features = StandardScaler()\n",
        "scaler_target = StandardScaler()\n",
        "\n",
        "df['Company Age'] = scaler_features.fit_transform(df['Company Age'].values.reshape(-1, 1))\n",
        "df['Rating'] = scaler_features.fit_transform(df['Rating'].values.reshape(-1, 1))\n",
        "df['Average Salary'] = scaler_target.fit_transform(df['Average Salary'].values.reshape(-1, 1))\n",
        "\n",
        "df = pd.get_dummies(df, dtype=int)\n",
        "\n",
        "X = df.drop(columns=['Average Salary'])\n",
        "y = df['Average Salary']\n",
        "\n",
        "X_train, X_test, y_train, y_test = train_test_split(X, y, test_size=0.2, random_state=42)"
      ]
    },
    {
      "cell_type": "markdown",
      "metadata": {
        "id": "AmINx0PzE3We"
      },
      "source": [
        "# Ridge Regression"
      ]
    },
    {
      "cell_type": "code",
      "execution_count": 20,
      "metadata": {
        "colab": {
          "base_uri": "https://localhost:8080/"
        },
        "id": "pM2Q3QxSE3We",
        "outputId": "c1980fca-805a-40b7-d9c2-0cb796bc81be"
      },
      "outputs": [
        {
          "name": "stdout",
          "output_type": "stream",
          "text": [
            "Ridge Regression MSE: 248446400.3769855\n"
          ]
        }
      ],
      "source": [
        "from sklearn.linear_model import Ridge\n",
        "\n",
        "ridge_model = Ridge(alpha=1.0)\n",
        "ridge_model.fit(X_train, y_train)\n",
        "\n",
        "y_pred = ridge_model.predict(X_test)\n",
        "\n",
        "y_test_original = scaler_target.inverse_transform(y_test.values.reshape(-1, 1))\n",
        "y_pred_original = scaler_target.inverse_transform(y_pred.reshape(-1, 1))\n",
        "\n",
        "mse = mean_squared_error(y_test_original, y_pred_original)\n",
        "print(f\"Ridge Regression MSE: {mse}\")"
      ]
    },
    {
      "cell_type": "markdown",
      "metadata": {
        "id": "uUrdEq8pE3Wf"
      },
      "source": [
        "# Lasso Regression"
      ]
    },
    {
      "cell_type": "code",
      "execution_count": 19,
      "metadata": {
        "colab": {
          "base_uri": "https://localhost:8080/"
        },
        "id": "wJlXLAfqE3Wf",
        "outputId": "4398fac7-5b1b-4656-bd75-3895795ae3db"
      },
      "outputs": [
        {
          "name": "stdout",
          "output_type": "stream",
          "text": [
            "\n",
            "Selected Features: Index(['Employeer Estimate', 'Company Age', 'Analysis', 'Machine Learning',\n",
            "       'SQL', 'Computer Science', 'Deep Learning', 'Big Data/Spark',\n",
            "       'Visualization Tool', 'Data Science', 'Size_51 to 200 Employees',\n",
            "       'Type of ownership_Company - Private',\n",
            "       'Type of ownership_Company - Public',\n",
            "       'Type of ownership_Nonprofit Organization',\n",
            "       'Industry_Health Care Services & Hospitals', 'Sector_Healthcare',\n",
            "       'Sector_Information Technology',\n",
            "       'Sector_Pharmaceutical & Biotechnology',\n",
            "       'Sector_Transportation & Logistics', 'Revenue_$1 to $5 billion (USD)',\n",
            "       'Revenue_$10+ billion (USD)', 'Revenue_Unknown / Non-Applicable',\n",
            "       'State_AK', 'State_AL', 'State_CA', 'State_NE', 'State_United States',\n",
            "       'State_WA', 'Seniority_Junior', 'Seniority_Manager/Leadership',\n",
            "       'Seniority_Mid-Level', 'Seniority_Senior'],\n",
            "      dtype='object')\n",
            "Lasso Regression MSE: 245392225.165968\n",
            "\n",
            "\n"
          ]
        }
      ],
      "source": [
        "from sklearn.linear_model import Lasso\n",
        "\n",
        "lasso_model = Lasso(alpha=0.01)\n",
        "lasso_model.fit(X_train, y_train)\n",
        "\n",
        "selected_features = X.columns[(lasso_model.coef_ != 0)]\n",
        "print(\"Selected Features:\", selected_features)\n",
        "\n",
        "y_pred_lasso = lasso_model.predict(X_test)\n",
        "\n",
        "y_pred_original_lasso = scaler_target.inverse_transform(y_pred_lasso.reshape(-1, 1))\n",
        "mse_lasso = mean_squared_error(y_test_original, y_pred_original_lasso)\n",
        "print(f\"Lasso Regression MSE: {mse_lasso}\")"
      ]
    },
    {
      "cell_type": "markdown",
      "metadata": {
        "id": "PvwRbv2GE3Wf"
      },
      "source": [
        "# Lasso and Ridge Combined"
      ]
    },
    {
      "cell_type": "code",
      "execution_count": 18,
      "metadata": {
        "colab": {
          "base_uri": "https://localhost:8080/"
        },
        "id": "KVwqYtR-E3Wf",
        "outputId": "d875fdcc-dc3a-4ff3-cb5d-81461161dcd2"
      },
      "outputs": [
        {
          "name": "stdout",
          "output_type": "stream",
          "text": [
            "Ridge with Lasso-selected Features MSE: 253446400.3769855\n"
          ]
        }
      ],
      "source": [
        "\n",
        "selected_features_lasso = [\n",
        "    'Employeer Estimate', 'Company Age', 'Analysis', 'Machine Learning', 'SQL',\n",
        "    'Computer Science', 'Deep Learning', 'Big Data/Spark', 'Visualization Tool',\n",
        "    'Data Science', 'Size_51 to 200 Employees',\n",
        "    'Type of ownership_Company - Private', 'Type of ownership_Company - Public',\n",
        "    'Type of ownership_Nonprofit Organization',\n",
        "    'Industry_Health Care Services & Hospitals', 'Sector_Healthcare',\n",
        "    'Sector_Information Technology', 'Sector_Pharmaceutical & Biotechnology',\n",
        "    'Sector_Transportation & Logistics', 'Revenue_$1 to $5 billion (USD)',\n",
        "    'Revenue_$10+ billion (USD)', 'Revenue_Unknown / Non-Applicable',\n",
        "    'State_AK', 'State_AL', 'State_CA', 'State_NE', 'State_United States',\n",
        "    'State_WA', 'Seniority_Junior', 'Seniority_Manager/Leadership',\n",
        "    'Seniority_Mid-Level', 'Seniority_Senior'\n",
        "]\n",
        "X_train_subset = X_train[selected_features_lasso]\n",
        "X_test_subset = X_test[selected_features_lasso]\n",
        "\n",
        "ridge_model_subset = Ridge(alpha=1.0)\n",
        "ridge_model_subset.fit(X_train_subset, y_train)\n",
        "y_pred_subset = ridge_model_subset.predict(X_test_subset)\n",
        "\n",
        "mse_subset = mean_squared_error(\n",
        "    scaler_target.inverse_transform(y_test.values.reshape(-1, 1)),\n",
        "    scaler_target.inverse_transform(y_pred_subset.reshape(-1, 1))\n",
        ")\n",
        "print(f\"Ridge with Lasso-selected Features MSE: {mse_subset}\")"
      ]
    },
    {
      "cell_type": "code",
      "execution_count": null,
      "metadata": {
        "id": "bnjsTtdwE3Wf",
        "outputId": "6ebcba40-2091-4760-8c23-539c39ebc470"
      },
      "outputs": [
        {
          "name": "stdout",
          "output_type": "stream",
          "text": [
            "Rating: -0.0689\n",
            "Employeer Estimate: 0.3282\n",
            "Company Age: -0.0946\n",
            "Analysis: -0.0692\n",
            "Machine Learning: 0.1897\n",
            "SQL: -0.1722\n",
            "Computer Science: 0.1457\n",
            "Deep Learning: 0.0309\n",
            "Big Data/Spark: 0.1161\n",
            "Visualization Tool: -0.2590\n",
            "Data Science: -0.0317\n",
            "Size_-1: -0.2444\n",
            "Size_1 to 50 Employees: -0.0145\n",
            "Size_10000+ Employees: -0.1204\n",
            "Size_1001 to 5000 Employees: 0.1105\n",
            "Size_201 to 500 Employees: 0.2939\n",
            "Size_5001 to 10000 Employees: 0.0712\n",
            "Size_501 to 1000 Employees: 0.1482\n",
            "Size_51 to 200 Employees: -0.2608\n",
            "Size_Unknown: 0.0163\n",
            "Type of ownership_-1: -0.2444\n",
            "Type of ownership_College / University: -0.0230\n",
            "Type of ownership_Company - Private: 0.1691\n",
            "Type of ownership_Company - Public: 0.0414\n",
            "Type of ownership_Government: -0.1729\n",
            "Type of ownership_Hospital: 0.8271\n",
            "Type of ownership_Nonprofit Organization: -0.5837\n",
            "Type of ownership_Private Practice / Firm: -0.2780\n",
            "Type of ownership_School / School District: 0.0928\n",
            "Type of ownership_Self-employed: 0.0404\n",
            "Type of ownership_Subsidiary or Business Segment: 0.1061\n",
            "Type of ownership_Unknown: 0.0250\n",
            "Industry_--: 0.0467\n",
            "Industry_-1: -0.2444\n",
            "Industry_Accounting & Tax: 0.0644\n",
            "Industry_Advertising & Public Relations: 0.0703\n",
            "Industry_Aerospace & Defense: -0.0966\n",
            "Industry_Airlines, Airports & Air Transportation: -0.5465\n",
            "Industry_Banking & Lending: 0.1257\n",
            "Industry_Beauty & Personal Accessories Stores: 0.0103\n",
            "Industry_Beauty & Wellness: -0.2995\n",
            "Industry_Biotech & Pharmaceuticals: 0.1877\n",
            "Industry_Broadcast Media: -0.1216\n",
            "Industry_Business Consulting: 0.0618\n",
            "Industry_Car & Truck Rental: 0.2878\n",
            "Industry_Chemical Manufacturing: -0.4038\n",
            "Industry_Civic & Social Services: -0.2484\n",
            "Industry_Colleges & Universities: -0.0019\n",
            "Industry_Commercial Equipment Services: 0.1522\n",
            "Industry_Computer Hardware Development: 0.1537\n",
            "Industry_Construction: 0.0000\n",
            "Industry_Consumer Product Manufacturing: -0.0548\n",
            "Industry_Department, Clothing & Shoe Stores: 0.3730\n",
            "Industry_Electronics Manufacturing: 0.4392\n",
            "Industry_Energy & Utilities: 0.1184\n",
            "Industry_Enterprise Software & Network Solutions: 0.1573\n",
            "Industry_Film Production: -0.0268\n",
            "Industry_Financial Transaction Processing: 0.0266\n",
            "Industry_Food & Beverage Manufacturing: 0.1144\n",
            "Industry_General Merchandise & Superstores: -0.0510\n",
            "Industry_Grocery Stores: 0.0000\n",
            "Industry_HR Consulting: 0.1306\n",
            "Industry_Health Care Services & Hospitals: 0.1587\n",
            "Industry_Home Furniture & Housewares Stores: 0.5078\n",
            "Industry_Hotels & Resorts: -0.1260\n",
            "Industry_Information Technology Support Services: -0.1102\n",
            "Industry_Insurance Agencies & Brokerages: 0.1897\n",
            "Industry_Insurance Carriers: -0.1783\n",
            "Industry_Internet & Web Services: 0.0408\n",
            "Industry_Investment & Asset Management: -0.1408\n",
            "Industry_Legal: -0.1792\n",
            "Industry_Machinery Manufacturing: -0.2694\n",
            "Industry_Membership Organizations: -0.2274\n",
            "Industry_Metal & Mineral Manufacturing: 0.0934\n",
            "Industry_National Agencies: -0.0194\n",
            "Industry_Other Retail Stores: -0.5554\n",
            "Industry_Pet & Pet Supplies Stores: -0.6711\n",
            "Industry_Pharmaceutical: 0.0845\n",
            "Industry_Preschools & Child Care Services: -0.1838\n",
            "Industry_Primary & Secondary Schools: -0.0084\n",
            "Industry_Publishing: -0.2245\n",
            "Industry_Real Estate: -0.0419\n",
            "Industry_Research & Development: 0.0277\n",
            "Industry_Restaurants & Cafes: 0.0177\n",
            "Industry_Shipping & Trucking: 0.0669\n",
            "Industry_Software Development: 0.1143\n",
            "Industry_Sporting Goods Stores: 0.0647\n",
            "Industry_Sports & Recreation: 0.1608\n",
            "Industry_State & Regional Agencies: -0.2211\n",
            "Industry_Stock Exchanges: 0.1304\n",
            "Industry_Telecommunications Services: 0.0015\n",
            "Industry_Transportation Equipment Manufacturing: 0.3092\n",
            "Industry_Video Game Publishing: 0.4670\n",
            "Industry_Wholesale: 0.2968\n",
            "Sector_--: 0.0467\n",
            "Sector_-1: -0.2444\n",
            "Sector_Aerospace & Defense: -0.0966\n",
            "Sector_Arts, Entertainment & Recreation: 0.1608\n",
            "Sector_Construction, Repair & Maintenance Services: 0.1522\n",
            "Sector_Education: -0.1940\n",
            "Sector_Energy, Mining & Utilities: 0.1184\n",
            "Sector_Financial Services: 0.2063\n",
            "Sector_Government & Public Administration: -0.2405\n",
            "Sector_Healthcare: 0.1587\n",
            "Sector_Hotels & Travel Accommodation: -0.1260\n",
            "Sector_Human Resources & Staffing: 0.1306\n",
            "Sector_Information Technology: 0.3559\n",
            "Sector_Insurance: 0.0114\n",
            "Sector_Legal: -0.1792\n",
            "Sector_Management & Consulting: -0.1379\n",
            "Sector_Manufacturing: 0.2282\n",
            "Sector_Media & Communication: 0.1645\n",
            "Sector_Nonprofit & NGO: -0.2484\n",
            "Sector_Personal Consumer Services: -0.2995\n",
            "Sector_Pharmaceutical & Biotechnology: 0.2722\n",
            "Sector_Real Estate: -0.0419\n",
            "Sector_Restaurants & Food Service: 0.0177\n",
            "Sector_Retail & Wholesale: -0.0249\n",
            "Sector_Telecommunications: 0.0015\n",
            "Sector_Transportation & Logistics: -0.1918\n",
            "Revenue_$1 to $5 billion (USD): 0.2694\n",
            "Revenue_$10+ billion (USD): 0.3173\n",
            "Revenue_$100 to $500 million (USD): -0.1818\n",
            "Revenue_$25 to $100 million (USD): -0.0717\n",
            "Revenue_$5 to $10 billion (USD): 0.1710\n",
            "Revenue_$5 to $25 million (USD): 0.0941\n",
            "Revenue_$500 million to $1 billion (USD): -0.4402\n",
            "Revenue_-1: -0.2444\n",
            "Revenue_Less than $1 million (USD): 0.0000\n",
            "Revenue_Unknown / Non-Applicable: 0.0863\n",
            "State_AK: 0.9219\n",
            "State_AL: 0.5412\n",
            "State_AR: 0.0020\n",
            "State_AZ: -0.3102\n",
            "State_CA: 0.4509\n",
            "State_CO: -0.2663\n",
            "State_CT: 0.8855\n",
            "State_DE: 0.1722\n",
            "State_FL: -0.1401\n",
            "State_GA: -0.2847\n",
            "State_HI: -0.2173\n",
            "State_IA: 0.1260\n",
            "State_ID: -0.0857\n",
            "State_IL: -0.0826\n",
            "State_IN: 0.1349\n",
            "State_KY: -0.1628\n",
            "State_LA: -0.5706\n",
            "State_MA: 0.3995\n",
            "State_MN: -0.2974\n",
            "State_MO: -0.1209\n",
            "State_NE: 0.2058\n",
            "State_NJ: 0.3707\n",
            "State_NY: -0.1631\n",
            "State_OH: -0.5564\n",
            "State_OR: -0.0800\n",
            "State_PA: -0.8452\n",
            "State_RI: 0.3117\n",
            "State_Remote: 0.0911\n",
            "State_TX: -0.1731\n",
            "State_UT: -0.9160\n",
            "State_United States: 0.3523\n",
            "State_VA: 0.0830\n",
            "State_WA: 0.2239\n",
            "Seniority_Junior: -0.5495\n",
            "Seniority_Manager/Leadership: 0.4468\n",
            "Seniority_Mid-Level: -0.1543\n",
            "Seniority_Not Applicable: 0.0310\n",
            "Seniority_Senior: 0.2260\n"
          ]
        }
      ],
      "source": [
        "import numpy as np\n",
        "\n",
        "coefficients = ridge_model.coef_\n",
        "features = X.columns\n",
        "for feature, coef in zip(features, coefficients):\n",
        "    print(f\"{feature}: {coef:.4f}\")"
      ]
    },
    {
      "cell_type": "markdown",
      "metadata": {
        "id": "2Gmg-Z0vE3Wg"
      },
      "source": [
        "# Ridge Cross validation"
      ]
    },
    {
      "cell_type": "code",
      "execution_count": 17,
      "metadata": {
        "colab": {
          "base_uri": "https://localhost:8080/"
        },
        "id": "uREOj0h_E3Wg",
        "outputId": "5b15c012-bba9-4581-8fc1-b4b82a68cb1b"
      },
      "outputs": [
        {
          "name": "stdout",
          "output_type": "stream",
          "text": [
            "Best alpha for Ridge: {'alpha': 10.0}\n"
          ]
        }
      ],
      "source": [
        "from sklearn.model_selection import GridSearchCV\n",
        "\n",
        "ridge_params = {'alpha': np.logspace(-3, 3, 7)}\n",
        "ridge_cv = GridSearchCV(Ridge(), ridge_params, scoring='neg_mean_squared_error', cv=5)\n",
        "ridge_cv.fit(X_train, y_train)\n",
        "\n",
        "print(\"Best alpha for Ridge:\", ridge_cv.best_params_)"
      ]
    },
    {
      "cell_type": "code",
      "execution_count": 16,
      "metadata": {
        "colab": {
          "base_uri": "https://localhost:8080/"
        },
        "id": "RlsIzqy8E3Wg",
        "outputId": "4cae16d9-c34e-480f-c3c9-3da4c042f365"
      },
      "outputs": [
        {
          "name": "stdout",
          "output_type": "stream",
          "text": [
            "Ridge Regression RMSE: 15893\n"
          ]
        }
      ],
      "source": [
        "from sklearn.metrics import mean_squared_error\n",
        "\n",
        "rmse = np.sqrt(mean_squared_error(y_test_original, y_pred_original))\n",
        "print(f\"Ridge Regression RMSE: {rmse}\")"
      ]
    },
    {
      "cell_type": "markdown",
      "metadata": {
        "id": "KY4B6LA7E3Wg"
      },
      "source": [
        "# Gradient Boost"
      ]
    },
    {
      "cell_type": "code",
      "execution_count": 15,
      "metadata": {
        "colab": {
          "base_uri": "https://localhost:8080/"
        },
        "id": "Zr2m68_nE3Wg",
        "outputId": "41c4c969-4992-4592-8d92-f3e54dae8dda"
      },
      "outputs": [
        {
          "name": "stdout",
          "output_type": "stream",
          "text": [
            "Gradient Boosting RMSE: 0.0414\n"
          ]
        }
      ],
      "source": [
        "from sklearn.ensemble import GradientBoostingRegressor\n",
        "from sklearn.metrics import mean_squared_error\n",
        "import numpy as np\n",
        "\n",
        "gbr = GradientBoostingRegressor(n_estimators=500, learning_rate=0.05, max_depth=4, random_state=42)\n",
        "gbr.fit(X_train, y_train)\n",
        "\n",
        "y_pred_gbr = gbr.predict(X_test)\n",
        "rmse_gbr = np.sqrt(mean_squared_error(y_test, y_pred_gbr))\n",
        "print(f\"Gradient Boosting RMSE: {rmse_gbr}\")"
      ]
    },
    {
      "cell_type": "code",
      "execution_count": null,
      "metadata": {
        "id": "9hf67VvxE3Wg",
        "outputId": "5ef82e92-9a4a-47ba-864e-3e53a0301bbe"
      },
      "outputs": [
        {
          "name": "stdout",
          "output_type": "stream",
          "text": [
            "Best parameters: {'learning_rate': 0.01, 'max_depth': 3, 'n_estimators': 1000}\n",
            "Best Gradient Boosting RMSE: 0.856794544747574\n"
          ]
        }
      ],
      "source": [
        "from sklearn.model_selection import GridSearchCV\n",
        "\n",
        "param_grid = {\n",
        "    'n_estimators': [100, 500, 1000],\n",
        "    'learning_rate': [0.01, 0.05, 0.1],\n",
        "    'max_depth': [3, 4, 5],\n",
        "}\n",
        "\n",
        "grid_search = GridSearchCV(GradientBoostingRegressor(random_state=42), param_grid, scoring='neg_mean_squared_error', cv=5)\n",
        "grid_search.fit(X_train, y_train)\n",
        "\n",
        "print(\"Best parameters:\", grid_search.best_params_)\n",
        "print(\"Best Gradient Boosting RMSE:\", np.sqrt(-grid_search.best_score_))\n"
      ]
    },
    {
      "cell_type": "markdown",
      "metadata": {
        "id": "IMbl8uAhE3Wg"
      },
      "source": [
        "# Random Forest"
      ]
    },
    {
      "cell_type": "code",
      "execution_count": 14,
      "metadata": {
        "colab": {
          "base_uri": "https://localhost:8080/"
        },
        "id": "FfPGAU4_E3Wh",
        "outputId": "b637ba93-cffa-4e4c-9f43-b99eed330f78"
      },
      "outputs": [
        {
          "name": "stdout",
          "output_type": "stream",
          "text": [
            "Random Forest RMSE: 0.04290013\n"
          ]
        }
      ],
      "source": [
        "from sklearn.ensemble import RandomForestRegressor\n",
        "\n",
        "rf = RandomForestRegressor(n_estimators=500, max_depth=10, random_state=42)\n",
        "rf.fit(X_train, y_train)\n",
        "\n",
        "y_pred_rf = rf.predict(X_test)\n",
        "rmse_rf = np.sqrt(mean_squared_error(y_test, y_pred_rf))\n",
        "print(f\"Random Forest RMSE: {rmse_rf}\")"
      ]
    },
    {
      "cell_type": "code",
      "execution_count": null,
      "metadata": {
        "id": "1ZAmDbjDE3Wh",
        "outputId": "4bd89cc7-aa19-44c8-9ac8-c24a928ce62e"
      },
      "outputs": [
        {
          "name": "stderr",
          "output_type": "stream",
          "text": [
            "c:\\Users\\testr\\anaconda3\\Lib\\site-packages\\sklearn\\ensemble\\_forest.py:413: FutureWarning: `max_features='auto'` has been deprecated in 1.1 and will be removed in 1.3. To keep the past behaviour, explicitly set `max_features=1.0` or remove this parameter as it is also the default value for RandomForestRegressors and ExtraTreesRegressors.\n",
            "  warn(\n",
            "c:\\Users\\testr\\anaconda3\\Lib\\site-packages\\sklearn\\ensemble\\_forest.py:413: FutureWarning: `max_features='auto'` has been deprecated in 1.1 and will be removed in 1.3. To keep the past behaviour, explicitly set `max_features=1.0` or remove this parameter as it is also the default value for RandomForestRegressors and ExtraTreesRegressors.\n",
            "  warn(\n",
            "c:\\Users\\testr\\anaconda3\\Lib\\site-packages\\sklearn\\ensemble\\_forest.py:413: FutureWarning: `max_features='auto'` has been deprecated in 1.1 and will be removed in 1.3. To keep the past behaviour, explicitly set `max_features=1.0` or remove this parameter as it is also the default value for RandomForestRegressors and ExtraTreesRegressors.\n",
            "  warn(\n",
            "c:\\Users\\testr\\anaconda3\\Lib\\site-packages\\sklearn\\ensemble\\_forest.py:413: FutureWarning: `max_features='auto'` has been deprecated in 1.1 and will be removed in 1.3. To keep the past behaviour, explicitly set `max_features=1.0` or remove this parameter as it is also the default value for RandomForestRegressors and ExtraTreesRegressors.\n",
            "  warn(\n",
            "c:\\Users\\testr\\anaconda3\\Lib\\site-packages\\sklearn\\ensemble\\_forest.py:413: FutureWarning: `max_features='auto'` has been deprecated in 1.1 and will be removed in 1.3. To keep the past behaviour, explicitly set `max_features=1.0` or remove this parameter as it is also the default value for RandomForestRegressors and ExtraTreesRegressors.\n",
            "  warn(\n",
            "c:\\Users\\testr\\anaconda3\\Lib\\site-packages\\sklearn\\ensemble\\_forest.py:413: FutureWarning: `max_features='auto'` has been deprecated in 1.1 and will be removed in 1.3. To keep the past behaviour, explicitly set `max_features=1.0` or remove this parameter as it is also the default value for RandomForestRegressors and ExtraTreesRegressors.\n",
            "  warn(\n",
            "c:\\Users\\testr\\anaconda3\\Lib\\site-packages\\sklearn\\ensemble\\_forest.py:413: FutureWarning: `max_features='auto'` has been deprecated in 1.1 and will be removed in 1.3. To keep the past behaviour, explicitly set `max_features=1.0` or remove this parameter as it is also the default value for RandomForestRegressors and ExtraTreesRegressors.\n",
            "  warn(\n",
            "c:\\Users\\testr\\anaconda3\\Lib\\site-packages\\sklearn\\ensemble\\_forest.py:413: FutureWarning: `max_features='auto'` has been deprecated in 1.1 and will be removed in 1.3. To keep the past behaviour, explicitly set `max_features=1.0` or remove this parameter as it is also the default value for RandomForestRegressors and ExtraTreesRegressors.\n",
            "  warn(\n",
            "c:\\Users\\testr\\anaconda3\\Lib\\site-packages\\sklearn\\ensemble\\_forest.py:413: FutureWarning: `max_features='auto'` has been deprecated in 1.1 and will be removed in 1.3. To keep the past behaviour, explicitly set `max_features=1.0` or remove this parameter as it is also the default value for RandomForestRegressors and ExtraTreesRegressors.\n",
            "  warn(\n",
            "c:\\Users\\testr\\anaconda3\\Lib\\site-packages\\sklearn\\ensemble\\_forest.py:413: FutureWarning: `max_features='auto'` has been deprecated in 1.1 and will be removed in 1.3. To keep the past behaviour, explicitly set `max_features=1.0` or remove this parameter as it is also the default value for RandomForestRegressors and ExtraTreesRegressors.\n",
            "  warn(\n",
            "c:\\Users\\testr\\anaconda3\\Lib\\site-packages\\sklearn\\ensemble\\_forest.py:413: FutureWarning: `max_features='auto'` has been deprecated in 1.1 and will be removed in 1.3. To keep the past behaviour, explicitly set `max_features=1.0` or remove this parameter as it is also the default value for RandomForestRegressors and ExtraTreesRegressors.\n",
            "  warn(\n",
            "c:\\Users\\testr\\anaconda3\\Lib\\site-packages\\sklearn\\ensemble\\_forest.py:413: FutureWarning: `max_features='auto'` has been deprecated in 1.1 and will be removed in 1.3. To keep the past behaviour, explicitly set `max_features=1.0` or remove this parameter as it is also the default value for RandomForestRegressors and ExtraTreesRegressors.\n",
            "  warn(\n",
            "c:\\Users\\testr\\anaconda3\\Lib\\site-packages\\sklearn\\ensemble\\_forest.py:413: FutureWarning: `max_features='auto'` has been deprecated in 1.1 and will be removed in 1.3. To keep the past behaviour, explicitly set `max_features=1.0` or remove this parameter as it is also the default value for RandomForestRegressors and ExtraTreesRegressors.\n",
            "  warn(\n",
            "c:\\Users\\testr\\anaconda3\\Lib\\site-packages\\sklearn\\ensemble\\_forest.py:413: FutureWarning: `max_features='auto'` has been deprecated in 1.1 and will be removed in 1.3. To keep the past behaviour, explicitly set `max_features=1.0` or remove this parameter as it is also the default value for RandomForestRegressors and ExtraTreesRegressors.\n",
            "  warn(\n",
            "c:\\Users\\testr\\anaconda3\\Lib\\site-packages\\sklearn\\ensemble\\_forest.py:413: FutureWarning: `max_features='auto'` has been deprecated in 1.1 and will be removed in 1.3. To keep the past behaviour, explicitly set `max_features=1.0` or remove this parameter as it is also the default value for RandomForestRegressors and ExtraTreesRegressors.\n",
            "  warn(\n",
            "c:\\Users\\testr\\anaconda3\\Lib\\site-packages\\sklearn\\ensemble\\_forest.py:413: FutureWarning: `max_features='auto'` has been deprecated in 1.1 and will be removed in 1.3. To keep the past behaviour, explicitly set `max_features=1.0` or remove this parameter as it is also the default value for RandomForestRegressors and ExtraTreesRegressors.\n",
            "  warn(\n",
            "c:\\Users\\testr\\anaconda3\\Lib\\site-packages\\sklearn\\ensemble\\_forest.py:413: FutureWarning: `max_features='auto'` has been deprecated in 1.1 and will be removed in 1.3. To keep the past behaviour, explicitly set `max_features=1.0` or remove this parameter as it is also the default value for RandomForestRegressors and ExtraTreesRegressors.\n",
            "  warn(\n",
            "c:\\Users\\testr\\anaconda3\\Lib\\site-packages\\sklearn\\ensemble\\_forest.py:413: FutureWarning: `max_features='auto'` has been deprecated in 1.1 and will be removed in 1.3. To keep the past behaviour, explicitly set `max_features=1.0` or remove this parameter as it is also the default value for RandomForestRegressors and ExtraTreesRegressors.\n",
            "  warn(\n",
            "c:\\Users\\testr\\anaconda3\\Lib\\site-packages\\sklearn\\ensemble\\_forest.py:413: FutureWarning: `max_features='auto'` has been deprecated in 1.1 and will be removed in 1.3. To keep the past behaviour, explicitly set `max_features=1.0` or remove this parameter as it is also the default value for RandomForestRegressors and ExtraTreesRegressors.\n",
            "  warn(\n",
            "c:\\Users\\testr\\anaconda3\\Lib\\site-packages\\sklearn\\ensemble\\_forest.py:413: FutureWarning: `max_features='auto'` has been deprecated in 1.1 and will be removed in 1.3. To keep the past behaviour, explicitly set `max_features=1.0` or remove this parameter as it is also the default value for RandomForestRegressors and ExtraTreesRegressors.\n",
            "  warn(\n",
            "c:\\Users\\testr\\anaconda3\\Lib\\site-packages\\sklearn\\ensemble\\_forest.py:413: FutureWarning: `max_features='auto'` has been deprecated in 1.1 and will be removed in 1.3. To keep the past behaviour, explicitly set `max_features=1.0` or remove this parameter as it is also the default value for RandomForestRegressors and ExtraTreesRegressors.\n",
            "  warn(\n",
            "c:\\Users\\testr\\anaconda3\\Lib\\site-packages\\sklearn\\ensemble\\_forest.py:413: FutureWarning: `max_features='auto'` has been deprecated in 1.1 and will be removed in 1.3. To keep the past behaviour, explicitly set `max_features=1.0` or remove this parameter as it is also the default value for RandomForestRegressors and ExtraTreesRegressors.\n",
            "  warn(\n",
            "c:\\Users\\testr\\anaconda3\\Lib\\site-packages\\sklearn\\ensemble\\_forest.py:413: FutureWarning: `max_features='auto'` has been deprecated in 1.1 and will be removed in 1.3. To keep the past behaviour, explicitly set `max_features=1.0` or remove this parameter as it is also the default value for RandomForestRegressors and ExtraTreesRegressors.\n",
            "  warn(\n",
            "c:\\Users\\testr\\anaconda3\\Lib\\site-packages\\sklearn\\ensemble\\_forest.py:413: FutureWarning: `max_features='auto'` has been deprecated in 1.1 and will be removed in 1.3. To keep the past behaviour, explicitly set `max_features=1.0` or remove this parameter as it is also the default value for RandomForestRegressors and ExtraTreesRegressors.\n",
            "  warn(\n",
            "c:\\Users\\testr\\anaconda3\\Lib\\site-packages\\sklearn\\ensemble\\_forest.py:413: FutureWarning: `max_features='auto'` has been deprecated in 1.1 and will be removed in 1.3. To keep the past behaviour, explicitly set `max_features=1.0` or remove this parameter as it is also the default value for RandomForestRegressors and ExtraTreesRegressors.\n",
            "  warn(\n",
            "c:\\Users\\testr\\anaconda3\\Lib\\site-packages\\sklearn\\ensemble\\_forest.py:413: FutureWarning: `max_features='auto'` has been deprecated in 1.1 and will be removed in 1.3. To keep the past behaviour, explicitly set `max_features=1.0` or remove this parameter as it is also the default value for RandomForestRegressors and ExtraTreesRegressors.\n",
            "  warn(\n",
            "c:\\Users\\testr\\anaconda3\\Lib\\site-packages\\sklearn\\ensemble\\_forest.py:413: FutureWarning: `max_features='auto'` has been deprecated in 1.1 and will be removed in 1.3. To keep the past behaviour, explicitly set `max_features=1.0` or remove this parameter as it is also the default value for RandomForestRegressors and ExtraTreesRegressors.\n",
            "  warn(\n",
            "c:\\Users\\testr\\anaconda3\\Lib\\site-packages\\sklearn\\ensemble\\_forest.py:413: FutureWarning: `max_features='auto'` has been deprecated in 1.1 and will be removed in 1.3. To keep the past behaviour, explicitly set `max_features=1.0` or remove this parameter as it is also the default value for RandomForestRegressors and ExtraTreesRegressors.\n",
            "  warn(\n",
            "c:\\Users\\testr\\anaconda3\\Lib\\site-packages\\sklearn\\ensemble\\_forest.py:413: FutureWarning: `max_features='auto'` has been deprecated in 1.1 and will be removed in 1.3. To keep the past behaviour, explicitly set `max_features=1.0` or remove this parameter as it is also the default value for RandomForestRegressors and ExtraTreesRegressors.\n",
            "  warn(\n",
            "c:\\Users\\testr\\anaconda3\\Lib\\site-packages\\sklearn\\ensemble\\_forest.py:413: FutureWarning: `max_features='auto'` has been deprecated in 1.1 and will be removed in 1.3. To keep the past behaviour, explicitly set `max_features=1.0` or remove this parameter as it is also the default value for RandomForestRegressors and ExtraTreesRegressors.\n",
            "  warn(\n",
            "c:\\Users\\testr\\anaconda3\\Lib\\site-packages\\sklearn\\ensemble\\_forest.py:413: FutureWarning: `max_features='auto'` has been deprecated in 1.1 and will be removed in 1.3. To keep the past behaviour, explicitly set `max_features=1.0` or remove this parameter as it is also the default value for RandomForestRegressors and ExtraTreesRegressors.\n",
            "  warn(\n",
            "c:\\Users\\testr\\anaconda3\\Lib\\site-packages\\sklearn\\ensemble\\_forest.py:413: FutureWarning: `max_features='auto'` has been deprecated in 1.1 and will be removed in 1.3. To keep the past behaviour, explicitly set `max_features=1.0` or remove this parameter as it is also the default value for RandomForestRegressors and ExtraTreesRegressors.\n",
            "  warn(\n",
            "c:\\Users\\testr\\anaconda3\\Lib\\site-packages\\sklearn\\ensemble\\_forest.py:413: FutureWarning: `max_features='auto'` has been deprecated in 1.1 and will be removed in 1.3. To keep the past behaviour, explicitly set `max_features=1.0` or remove this parameter as it is also the default value for RandomForestRegressors and ExtraTreesRegressors.\n",
            "  warn(\n",
            "c:\\Users\\testr\\anaconda3\\Lib\\site-packages\\sklearn\\ensemble\\_forest.py:413: FutureWarning: `max_features='auto'` has been deprecated in 1.1 and will be removed in 1.3. To keep the past behaviour, explicitly set `max_features=1.0` or remove this parameter as it is also the default value for RandomForestRegressors and ExtraTreesRegressors.\n",
            "  warn(\n",
            "c:\\Users\\testr\\anaconda3\\Lib\\site-packages\\sklearn\\ensemble\\_forest.py:413: FutureWarning: `max_features='auto'` has been deprecated in 1.1 and will be removed in 1.3. To keep the past behaviour, explicitly set `max_features=1.0` or remove this parameter as it is also the default value for RandomForestRegressors and ExtraTreesRegressors.\n",
            "  warn(\n",
            "c:\\Users\\testr\\anaconda3\\Lib\\site-packages\\sklearn\\ensemble\\_forest.py:413: FutureWarning: `max_features='auto'` has been deprecated in 1.1 and will be removed in 1.3. To keep the past behaviour, explicitly set `max_features=1.0` or remove this parameter as it is also the default value for RandomForestRegressors and ExtraTreesRegressors.\n",
            "  warn(\n",
            "c:\\Users\\testr\\anaconda3\\Lib\\site-packages\\sklearn\\ensemble\\_forest.py:413: FutureWarning: `max_features='auto'` has been deprecated in 1.1 and will be removed in 1.3. To keep the past behaviour, explicitly set `max_features=1.0` or remove this parameter as it is also the default value for RandomForestRegressors and ExtraTreesRegressors.\n",
            "  warn(\n",
            "c:\\Users\\testr\\anaconda3\\Lib\\site-packages\\sklearn\\ensemble\\_forest.py:413: FutureWarning: `max_features='auto'` has been deprecated in 1.1 and will be removed in 1.3. To keep the past behaviour, explicitly set `max_features=1.0` or remove this parameter as it is also the default value for RandomForestRegressors and ExtraTreesRegressors.\n",
            "  warn(\n",
            "c:\\Users\\testr\\anaconda3\\Lib\\site-packages\\sklearn\\ensemble\\_forest.py:413: FutureWarning: `max_features='auto'` has been deprecated in 1.1 and will be removed in 1.3. To keep the past behaviour, explicitly set `max_features=1.0` or remove this parameter as it is also the default value for RandomForestRegressors and ExtraTreesRegressors.\n",
            "  warn(\n",
            "c:\\Users\\testr\\anaconda3\\Lib\\site-packages\\sklearn\\ensemble\\_forest.py:413: FutureWarning: `max_features='auto'` has been deprecated in 1.1 and will be removed in 1.3. To keep the past behaviour, explicitly set `max_features=1.0` or remove this parameter as it is also the default value for RandomForestRegressors and ExtraTreesRegressors.\n",
            "  warn(\n",
            "c:\\Users\\testr\\anaconda3\\Lib\\site-packages\\sklearn\\ensemble\\_forest.py:413: FutureWarning: `max_features='auto'` has been deprecated in 1.1 and will be removed in 1.3. To keep the past behaviour, explicitly set `max_features=1.0` or remove this parameter as it is also the default value for RandomForestRegressors and ExtraTreesRegressors.\n",
            "  warn(\n",
            "c:\\Users\\testr\\anaconda3\\Lib\\site-packages\\sklearn\\ensemble\\_forest.py:413: FutureWarning: `max_features='auto'` has been deprecated in 1.1 and will be removed in 1.3. To keep the past behaviour, explicitly set `max_features=1.0` or remove this parameter as it is also the default value for RandomForestRegressors and ExtraTreesRegressors.\n",
            "  warn(\n",
            "c:\\Users\\testr\\anaconda3\\Lib\\site-packages\\sklearn\\ensemble\\_forest.py:413: FutureWarning: `max_features='auto'` has been deprecated in 1.1 and will be removed in 1.3. To keep the past behaviour, explicitly set `max_features=1.0` or remove this parameter as it is also the default value for RandomForestRegressors and ExtraTreesRegressors.\n",
            "  warn(\n",
            "c:\\Users\\testr\\anaconda3\\Lib\\site-packages\\sklearn\\ensemble\\_forest.py:413: FutureWarning: `max_features='auto'` has been deprecated in 1.1 and will be removed in 1.3. To keep the past behaviour, explicitly set `max_features=1.0` or remove this parameter as it is also the default value for RandomForestRegressors and ExtraTreesRegressors.\n",
            "  warn(\n",
            "c:\\Users\\testr\\anaconda3\\Lib\\site-packages\\sklearn\\ensemble\\_forest.py:413: FutureWarning: `max_features='auto'` has been deprecated in 1.1 and will be removed in 1.3. To keep the past behaviour, explicitly set `max_features=1.0` or remove this parameter as it is also the default value for RandomForestRegressors and ExtraTreesRegressors.\n",
            "  warn(\n",
            "c:\\Users\\testr\\anaconda3\\Lib\\site-packages\\sklearn\\ensemble\\_forest.py:413: FutureWarning: `max_features='auto'` has been deprecated in 1.1 and will be removed in 1.3. To keep the past behaviour, explicitly set `max_features=1.0` or remove this parameter as it is also the default value for RandomForestRegressors and ExtraTreesRegressors.\n",
            "  warn(\n",
            "c:\\Users\\testr\\anaconda3\\Lib\\site-packages\\sklearn\\ensemble\\_forest.py:413: FutureWarning: `max_features='auto'` has been deprecated in 1.1 and will be removed in 1.3. To keep the past behaviour, explicitly set `max_features=1.0` or remove this parameter as it is also the default value for RandomForestRegressors and ExtraTreesRegressors.\n",
            "  warn(\n",
            "c:\\Users\\testr\\anaconda3\\Lib\\site-packages\\sklearn\\ensemble\\_forest.py:413: FutureWarning: `max_features='auto'` has been deprecated in 1.1 and will be removed in 1.3. To keep the past behaviour, explicitly set `max_features=1.0` or remove this parameter as it is also the default value for RandomForestRegressors and ExtraTreesRegressors.\n",
            "  warn(\n",
            "c:\\Users\\testr\\anaconda3\\Lib\\site-packages\\sklearn\\ensemble\\_forest.py:413: FutureWarning: `max_features='auto'` has been deprecated in 1.1 and will be removed in 1.3. To keep the past behaviour, explicitly set `max_features=1.0` or remove this parameter as it is also the default value for RandomForestRegressors and ExtraTreesRegressors.\n",
            "  warn(\n",
            "c:\\Users\\testr\\anaconda3\\Lib\\site-packages\\sklearn\\ensemble\\_forest.py:413: FutureWarning: `max_features='auto'` has been deprecated in 1.1 and will be removed in 1.3. To keep the past behaviour, explicitly set `max_features=1.0` or remove this parameter as it is also the default value for RandomForestRegressors and ExtraTreesRegressors.\n",
            "  warn(\n",
            "c:\\Users\\testr\\anaconda3\\Lib\\site-packages\\sklearn\\ensemble\\_forest.py:413: FutureWarning: `max_features='auto'` has been deprecated in 1.1 and will be removed in 1.3. To keep the past behaviour, explicitly set `max_features=1.0` or remove this parameter as it is also the default value for RandomForestRegressors and ExtraTreesRegressors.\n",
            "  warn(\n",
            "c:\\Users\\testr\\anaconda3\\Lib\\site-packages\\sklearn\\ensemble\\_forest.py:413: FutureWarning: `max_features='auto'` has been deprecated in 1.1 and will be removed in 1.3. To keep the past behaviour, explicitly set `max_features=1.0` or remove this parameter as it is also the default value for RandomForestRegressors and ExtraTreesRegressors.\n",
            "  warn(\n",
            "c:\\Users\\testr\\anaconda3\\Lib\\site-packages\\sklearn\\ensemble\\_forest.py:413: FutureWarning: `max_features='auto'` has been deprecated in 1.1 and will be removed in 1.3. To keep the past behaviour, explicitly set `max_features=1.0` or remove this parameter as it is also the default value for RandomForestRegressors and ExtraTreesRegressors.\n",
            "  warn(\n",
            "c:\\Users\\testr\\anaconda3\\Lib\\site-packages\\sklearn\\ensemble\\_forest.py:413: FutureWarning: `max_features='auto'` has been deprecated in 1.1 and will be removed in 1.3. To keep the past behaviour, explicitly set `max_features=1.0` or remove this parameter as it is also the default value for RandomForestRegressors and ExtraTreesRegressors.\n",
            "  warn(\n",
            "c:\\Users\\testr\\anaconda3\\Lib\\site-packages\\sklearn\\ensemble\\_forest.py:413: FutureWarning: `max_features='auto'` has been deprecated in 1.1 and will be removed in 1.3. To keep the past behaviour, explicitly set `max_features=1.0` or remove this parameter as it is also the default value for RandomForestRegressors and ExtraTreesRegressors.\n",
            "  warn(\n",
            "c:\\Users\\testr\\anaconda3\\Lib\\site-packages\\sklearn\\ensemble\\_forest.py:413: FutureWarning: `max_features='auto'` has been deprecated in 1.1 and will be removed in 1.3. To keep the past behaviour, explicitly set `max_features=1.0` or remove this parameter as it is also the default value for RandomForestRegressors and ExtraTreesRegressors.\n",
            "  warn(\n",
            "c:\\Users\\testr\\anaconda3\\Lib\\site-packages\\sklearn\\ensemble\\_forest.py:413: FutureWarning: `max_features='auto'` has been deprecated in 1.1 and will be removed in 1.3. To keep the past behaviour, explicitly set `max_features=1.0` or remove this parameter as it is also the default value for RandomForestRegressors and ExtraTreesRegressors.\n",
            "  warn(\n",
            "c:\\Users\\testr\\anaconda3\\Lib\\site-packages\\sklearn\\ensemble\\_forest.py:413: FutureWarning: `max_features='auto'` has been deprecated in 1.1 and will be removed in 1.3. To keep the past behaviour, explicitly set `max_features=1.0` or remove this parameter as it is also the default value for RandomForestRegressors and ExtraTreesRegressors.\n",
            "  warn(\n",
            "c:\\Users\\testr\\anaconda3\\Lib\\site-packages\\sklearn\\ensemble\\_forest.py:413: FutureWarning: `max_features='auto'` has been deprecated in 1.1 and will be removed in 1.3. To keep the past behaviour, explicitly set `max_features=1.0` or remove this parameter as it is also the default value for RandomForestRegressors and ExtraTreesRegressors.\n",
            "  warn(\n",
            "c:\\Users\\testr\\anaconda3\\Lib\\site-packages\\sklearn\\ensemble\\_forest.py:413: FutureWarning: `max_features='auto'` has been deprecated in 1.1 and will be removed in 1.3. To keep the past behaviour, explicitly set `max_features=1.0` or remove this parameter as it is also the default value for RandomForestRegressors and ExtraTreesRegressors.\n",
            "  warn(\n",
            "c:\\Users\\testr\\anaconda3\\Lib\\site-packages\\sklearn\\ensemble\\_forest.py:413: FutureWarning: `max_features='auto'` has been deprecated in 1.1 and will be removed in 1.3. To keep the past behaviour, explicitly set `max_features=1.0` or remove this parameter as it is also the default value for RandomForestRegressors and ExtraTreesRegressors.\n",
            "  warn(\n",
            "c:\\Users\\testr\\anaconda3\\Lib\\site-packages\\sklearn\\ensemble\\_forest.py:413: FutureWarning: `max_features='auto'` has been deprecated in 1.1 and will be removed in 1.3. To keep the past behaviour, explicitly set `max_features=1.0` or remove this parameter as it is also the default value for RandomForestRegressors and ExtraTreesRegressors.\n",
            "  warn(\n",
            "c:\\Users\\testr\\anaconda3\\Lib\\site-packages\\sklearn\\ensemble\\_forest.py:413: FutureWarning: `max_features='auto'` has been deprecated in 1.1 and will be removed in 1.3. To keep the past behaviour, explicitly set `max_features=1.0` or remove this parameter as it is also the default value for RandomForestRegressors and ExtraTreesRegressors.\n",
            "  warn(\n",
            "c:\\Users\\testr\\anaconda3\\Lib\\site-packages\\sklearn\\ensemble\\_forest.py:413: FutureWarning: `max_features='auto'` has been deprecated in 1.1 and will be removed in 1.3. To keep the past behaviour, explicitly set `max_features=1.0` or remove this parameter as it is also the default value for RandomForestRegressors and ExtraTreesRegressors.\n",
            "  warn(\n",
            "c:\\Users\\testr\\anaconda3\\Lib\\site-packages\\sklearn\\ensemble\\_forest.py:413: FutureWarning: `max_features='auto'` has been deprecated in 1.1 and will be removed in 1.3. To keep the past behaviour, explicitly set `max_features=1.0` or remove this parameter as it is also the default value for RandomForestRegressors and ExtraTreesRegressors.\n",
            "  warn(\n",
            "c:\\Users\\testr\\anaconda3\\Lib\\site-packages\\sklearn\\ensemble\\_forest.py:413: FutureWarning: `max_features='auto'` has been deprecated in 1.1 and will be removed in 1.3. To keep the past behaviour, explicitly set `max_features=1.0` or remove this parameter as it is also the default value for RandomForestRegressors and ExtraTreesRegressors.\n",
            "  warn(\n",
            "c:\\Users\\testr\\anaconda3\\Lib\\site-packages\\sklearn\\ensemble\\_forest.py:413: FutureWarning: `max_features='auto'` has been deprecated in 1.1 and will be removed in 1.3. To keep the past behaviour, explicitly set `max_features=1.0` or remove this parameter as it is also the default value for RandomForestRegressors and ExtraTreesRegressors.\n",
            "  warn(\n",
            "c:\\Users\\testr\\anaconda3\\Lib\\site-packages\\sklearn\\ensemble\\_forest.py:413: FutureWarning: `max_features='auto'` has been deprecated in 1.1 and will be removed in 1.3. To keep the past behaviour, explicitly set `max_features=1.0` or remove this parameter as it is also the default value for RandomForestRegressors and ExtraTreesRegressors.\n",
            "  warn(\n",
            "c:\\Users\\testr\\anaconda3\\Lib\\site-packages\\sklearn\\ensemble\\_forest.py:413: FutureWarning: `max_features='auto'` has been deprecated in 1.1 and will be removed in 1.3. To keep the past behaviour, explicitly set `max_features=1.0` or remove this parameter as it is also the default value for RandomForestRegressors and ExtraTreesRegressors.\n",
            "  warn(\n",
            "c:\\Users\\testr\\anaconda3\\Lib\\site-packages\\sklearn\\ensemble\\_forest.py:413: FutureWarning: `max_features='auto'` has been deprecated in 1.1 and will be removed in 1.3. To keep the past behaviour, explicitly set `max_features=1.0` or remove this parameter as it is also the default value for RandomForestRegressors and ExtraTreesRegressors.\n",
            "  warn(\n",
            "c:\\Users\\testr\\anaconda3\\Lib\\site-packages\\sklearn\\ensemble\\_forest.py:413: FutureWarning: `max_features='auto'` has been deprecated in 1.1 and will be removed in 1.3. To keep the past behaviour, explicitly set `max_features=1.0` or remove this parameter as it is also the default value for RandomForestRegressors and ExtraTreesRegressors.\n",
            "  warn(\n",
            "c:\\Users\\testr\\anaconda3\\Lib\\site-packages\\sklearn\\ensemble\\_forest.py:413: FutureWarning: `max_features='auto'` has been deprecated in 1.1 and will be removed in 1.3. To keep the past behaviour, explicitly set `max_features=1.0` or remove this parameter as it is also the default value for RandomForestRegressors and ExtraTreesRegressors.\n",
            "  warn(\n",
            "c:\\Users\\testr\\anaconda3\\Lib\\site-packages\\sklearn\\ensemble\\_forest.py:413: FutureWarning: `max_features='auto'` has been deprecated in 1.1 and will be removed in 1.3. To keep the past behaviour, explicitly set `max_features=1.0` or remove this parameter as it is also the default value for RandomForestRegressors and ExtraTreesRegressors.\n",
            "  warn(\n",
            "c:\\Users\\testr\\anaconda3\\Lib\\site-packages\\sklearn\\ensemble\\_forest.py:413: FutureWarning: `max_features='auto'` has been deprecated in 1.1 and will be removed in 1.3. To keep the past behaviour, explicitly set `max_features=1.0` or remove this parameter as it is also the default value for RandomForestRegressors and ExtraTreesRegressors.\n",
            "  warn(\n",
            "c:\\Users\\testr\\anaconda3\\Lib\\site-packages\\sklearn\\ensemble\\_forest.py:413: FutureWarning: `max_features='auto'` has been deprecated in 1.1 and will be removed in 1.3. To keep the past behaviour, explicitly set `max_features=1.0` or remove this parameter as it is also the default value for RandomForestRegressors and ExtraTreesRegressors.\n",
            "  warn(\n",
            "c:\\Users\\testr\\anaconda3\\Lib\\site-packages\\sklearn\\ensemble\\_forest.py:413: FutureWarning: `max_features='auto'` has been deprecated in 1.1 and will be removed in 1.3. To keep the past behaviour, explicitly set `max_features=1.0` or remove this parameter as it is also the default value for RandomForestRegressors and ExtraTreesRegressors.\n",
            "  warn(\n",
            "c:\\Users\\testr\\anaconda3\\Lib\\site-packages\\sklearn\\ensemble\\_forest.py:413: FutureWarning: `max_features='auto'` has been deprecated in 1.1 and will be removed in 1.3. To keep the past behaviour, explicitly set `max_features=1.0` or remove this parameter as it is also the default value for RandomForestRegressors and ExtraTreesRegressors.\n",
            "  warn(\n",
            "c:\\Users\\testr\\anaconda3\\Lib\\site-packages\\sklearn\\ensemble\\_forest.py:413: FutureWarning: `max_features='auto'` has been deprecated in 1.1 and will be removed in 1.3. To keep the past behaviour, explicitly set `max_features=1.0` or remove this parameter as it is also the default value for RandomForestRegressors and ExtraTreesRegressors.\n",
            "  warn(\n",
            "c:\\Users\\testr\\anaconda3\\Lib\\site-packages\\sklearn\\ensemble\\_forest.py:413: FutureWarning: `max_features='auto'` has been deprecated in 1.1 and will be removed in 1.3. To keep the past behaviour, explicitly set `max_features=1.0` or remove this parameter as it is also the default value for RandomForestRegressors and ExtraTreesRegressors.\n",
            "  warn(\n",
            "c:\\Users\\testr\\anaconda3\\Lib\\site-packages\\sklearn\\ensemble\\_forest.py:413: FutureWarning: `max_features='auto'` has been deprecated in 1.1 and will be removed in 1.3. To keep the past behaviour, explicitly set `max_features=1.0` or remove this parameter as it is also the default value for RandomForestRegressors and ExtraTreesRegressors.\n",
            "  warn(\n",
            "c:\\Users\\testr\\anaconda3\\Lib\\site-packages\\sklearn\\ensemble\\_forest.py:413: FutureWarning: `max_features='auto'` has been deprecated in 1.1 and will be removed in 1.3. To keep the past behaviour, explicitly set `max_features=1.0` or remove this parameter as it is also the default value for RandomForestRegressors and ExtraTreesRegressors.\n",
            "  warn(\n",
            "c:\\Users\\testr\\anaconda3\\Lib\\site-packages\\sklearn\\ensemble\\_forest.py:413: FutureWarning: `max_features='auto'` has been deprecated in 1.1 and will be removed in 1.3. To keep the past behaviour, explicitly set `max_features=1.0` or remove this parameter as it is also the default value for RandomForestRegressors and ExtraTreesRegressors.\n",
            "  warn(\n",
            "c:\\Users\\testr\\anaconda3\\Lib\\site-packages\\sklearn\\ensemble\\_forest.py:413: FutureWarning: `max_features='auto'` has been deprecated in 1.1 and will be removed in 1.3. To keep the past behaviour, explicitly set `max_features=1.0` or remove this parameter as it is also the default value for RandomForestRegressors and ExtraTreesRegressors.\n",
            "  warn(\n",
            "c:\\Users\\testr\\anaconda3\\Lib\\site-packages\\sklearn\\ensemble\\_forest.py:413: FutureWarning: `max_features='auto'` has been deprecated in 1.1 and will be removed in 1.3. To keep the past behaviour, explicitly set `max_features=1.0` or remove this parameter as it is also the default value for RandomForestRegressors and ExtraTreesRegressors.\n",
            "  warn(\n",
            "c:\\Users\\testr\\anaconda3\\Lib\\site-packages\\sklearn\\ensemble\\_forest.py:413: FutureWarning: `max_features='auto'` has been deprecated in 1.1 and will be removed in 1.3. To keep the past behaviour, explicitly set `max_features=1.0` or remove this parameter as it is also the default value for RandomForestRegressors and ExtraTreesRegressors.\n",
            "  warn(\n",
            "c:\\Users\\testr\\anaconda3\\Lib\\site-packages\\sklearn\\ensemble\\_forest.py:413: FutureWarning: `max_features='auto'` has been deprecated in 1.1 and will be removed in 1.3. To keep the past behaviour, explicitly set `max_features=1.0` or remove this parameter as it is also the default value for RandomForestRegressors and ExtraTreesRegressors.\n",
            "  warn(\n",
            "c:\\Users\\testr\\anaconda3\\Lib\\site-packages\\sklearn\\ensemble\\_forest.py:413: FutureWarning: `max_features='auto'` has been deprecated in 1.1 and will be removed in 1.3. To keep the past behaviour, explicitly set `max_features=1.0` or remove this parameter as it is also the default value for RandomForestRegressors and ExtraTreesRegressors.\n",
            "  warn(\n",
            "c:\\Users\\testr\\anaconda3\\Lib\\site-packages\\sklearn\\ensemble\\_forest.py:413: FutureWarning: `max_features='auto'` has been deprecated in 1.1 and will be removed in 1.3. To keep the past behaviour, explicitly set `max_features=1.0` or remove this parameter as it is also the default value for RandomForestRegressors and ExtraTreesRegressors.\n",
            "  warn(\n",
            "c:\\Users\\testr\\anaconda3\\Lib\\site-packages\\sklearn\\ensemble\\_forest.py:413: FutureWarning: `max_features='auto'` has been deprecated in 1.1 and will be removed in 1.3. To keep the past behaviour, explicitly set `max_features=1.0` or remove this parameter as it is also the default value for RandomForestRegressors and ExtraTreesRegressors.\n",
            "  warn(\n",
            "c:\\Users\\testr\\anaconda3\\Lib\\site-packages\\sklearn\\ensemble\\_forest.py:413: FutureWarning: `max_features='auto'` has been deprecated in 1.1 and will be removed in 1.3. To keep the past behaviour, explicitly set `max_features=1.0` or remove this parameter as it is also the default value for RandomForestRegressors and ExtraTreesRegressors.\n",
            "  warn(\n",
            "c:\\Users\\testr\\anaconda3\\Lib\\site-packages\\sklearn\\ensemble\\_forest.py:413: FutureWarning: `max_features='auto'` has been deprecated in 1.1 and will be removed in 1.3. To keep the past behaviour, explicitly set `max_features=1.0` or remove this parameter as it is also the default value for RandomForestRegressors and ExtraTreesRegressors.\n",
            "  warn(\n",
            "c:\\Users\\testr\\anaconda3\\Lib\\site-packages\\sklearn\\ensemble\\_forest.py:413: FutureWarning: `max_features='auto'` has been deprecated in 1.1 and will be removed in 1.3. To keep the past behaviour, explicitly set `max_features=1.0` or remove this parameter as it is also the default value for RandomForestRegressors and ExtraTreesRegressors.\n",
            "  warn(\n",
            "c:\\Users\\testr\\anaconda3\\Lib\\site-packages\\sklearn\\ensemble\\_forest.py:413: FutureWarning: `max_features='auto'` has been deprecated in 1.1 and will be removed in 1.3. To keep the past behaviour, explicitly set `max_features=1.0` or remove this parameter as it is also the default value for RandomForestRegressors and ExtraTreesRegressors.\n",
            "  warn(\n",
            "c:\\Users\\testr\\anaconda3\\Lib\\site-packages\\sklearn\\ensemble\\_forest.py:413: FutureWarning: `max_features='auto'` has been deprecated in 1.1 and will be removed in 1.3. To keep the past behaviour, explicitly set `max_features=1.0` or remove this parameter as it is also the default value for RandomForestRegressors and ExtraTreesRegressors.\n",
            "  warn(\n",
            "c:\\Users\\testr\\anaconda3\\Lib\\site-packages\\sklearn\\ensemble\\_forest.py:413: FutureWarning: `max_features='auto'` has been deprecated in 1.1 and will be removed in 1.3. To keep the past behaviour, explicitly set `max_features=1.0` or remove this parameter as it is also the default value for RandomForestRegressors and ExtraTreesRegressors.\n",
            "  warn(\n",
            "c:\\Users\\testr\\anaconda3\\Lib\\site-packages\\sklearn\\ensemble\\_forest.py:413: FutureWarning: `max_features='auto'` has been deprecated in 1.1 and will be removed in 1.3. To keep the past behaviour, explicitly set `max_features=1.0` or remove this parameter as it is also the default value for RandomForestRegressors and ExtraTreesRegressors.\n",
            "  warn(\n",
            "c:\\Users\\testr\\anaconda3\\Lib\\site-packages\\sklearn\\ensemble\\_forest.py:413: FutureWarning: `max_features='auto'` has been deprecated in 1.1 and will be removed in 1.3. To keep the past behaviour, explicitly set `max_features=1.0` or remove this parameter as it is also the default value for RandomForestRegressors and ExtraTreesRegressors.\n",
            "  warn(\n",
            "c:\\Users\\testr\\anaconda3\\Lib\\site-packages\\sklearn\\ensemble\\_forest.py:413: FutureWarning: `max_features='auto'` has been deprecated in 1.1 and will be removed in 1.3. To keep the past behaviour, explicitly set `max_features=1.0` or remove this parameter as it is also the default value for RandomForestRegressors and ExtraTreesRegressors.\n",
            "  warn(\n",
            "c:\\Users\\testr\\anaconda3\\Lib\\site-packages\\sklearn\\ensemble\\_forest.py:413: FutureWarning: `max_features='auto'` has been deprecated in 1.1 and will be removed in 1.3. To keep the past behaviour, explicitly set `max_features=1.0` or remove this parameter as it is also the default value for RandomForestRegressors and ExtraTreesRegressors.\n",
            "  warn(\n",
            "c:\\Users\\testr\\anaconda3\\Lib\\site-packages\\sklearn\\ensemble\\_forest.py:413: FutureWarning: `max_features='auto'` has been deprecated in 1.1 and will be removed in 1.3. To keep the past behaviour, explicitly set `max_features=1.0` or remove this parameter as it is also the default value for RandomForestRegressors and ExtraTreesRegressors.\n",
            "  warn(\n",
            "c:\\Users\\testr\\anaconda3\\Lib\\site-packages\\sklearn\\ensemble\\_forest.py:413: FutureWarning: `max_features='auto'` has been deprecated in 1.1 and will be removed in 1.3. To keep the past behaviour, explicitly set `max_features=1.0` or remove this parameter as it is also the default value for RandomForestRegressors and ExtraTreesRegressors.\n",
            "  warn(\n",
            "c:\\Users\\testr\\anaconda3\\Lib\\site-packages\\sklearn\\ensemble\\_forest.py:413: FutureWarning: `max_features='auto'` has been deprecated in 1.1 and will be removed in 1.3. To keep the past behaviour, explicitly set `max_features=1.0` or remove this parameter as it is also the default value for RandomForestRegressors and ExtraTreesRegressors.\n",
            "  warn(\n",
            "c:\\Users\\testr\\anaconda3\\Lib\\site-packages\\sklearn\\ensemble\\_forest.py:413: FutureWarning: `max_features='auto'` has been deprecated in 1.1 and will be removed in 1.3. To keep the past behaviour, explicitly set `max_features=1.0` or remove this parameter as it is also the default value for RandomForestRegressors and ExtraTreesRegressors.\n",
            "  warn(\n",
            "c:\\Users\\testr\\anaconda3\\Lib\\site-packages\\sklearn\\ensemble\\_forest.py:413: FutureWarning: `max_features='auto'` has been deprecated in 1.1 and will be removed in 1.3. To keep the past behaviour, explicitly set `max_features=1.0` or remove this parameter as it is also the default value for RandomForestRegressors and ExtraTreesRegressors.\n",
            "  warn(\n",
            "c:\\Users\\testr\\anaconda3\\Lib\\site-packages\\sklearn\\ensemble\\_forest.py:413: FutureWarning: `max_features='auto'` has been deprecated in 1.1 and will be removed in 1.3. To keep the past behaviour, explicitly set `max_features=1.0` or remove this parameter as it is also the default value for RandomForestRegressors and ExtraTreesRegressors.\n",
            "  warn(\n",
            "c:\\Users\\testr\\anaconda3\\Lib\\site-packages\\sklearn\\ensemble\\_forest.py:413: FutureWarning: `max_features='auto'` has been deprecated in 1.1 and will be removed in 1.3. To keep the past behaviour, explicitly set `max_features=1.0` or remove this parameter as it is also the default value for RandomForestRegressors and ExtraTreesRegressors.\n",
            "  warn(\n",
            "c:\\Users\\testr\\anaconda3\\Lib\\site-packages\\sklearn\\ensemble\\_forest.py:413: FutureWarning: `max_features='auto'` has been deprecated in 1.1 and will be removed in 1.3. To keep the past behaviour, explicitly set `max_features=1.0` or remove this parameter as it is also the default value for RandomForestRegressors and ExtraTreesRegressors.\n",
            "  warn(\n",
            "c:\\Users\\testr\\anaconda3\\Lib\\site-packages\\sklearn\\ensemble\\_forest.py:413: FutureWarning: `max_features='auto'` has been deprecated in 1.1 and will be removed in 1.3. To keep the past behaviour, explicitly set `max_features=1.0` or remove this parameter as it is also the default value for RandomForestRegressors and ExtraTreesRegressors.\n",
            "  warn(\n",
            "c:\\Users\\testr\\anaconda3\\Lib\\site-packages\\sklearn\\ensemble\\_forest.py:413: FutureWarning: `max_features='auto'` has been deprecated in 1.1 and will be removed in 1.3. To keep the past behaviour, explicitly set `max_features=1.0` or remove this parameter as it is also the default value for RandomForestRegressors and ExtraTreesRegressors.\n",
            "  warn(\n",
            "c:\\Users\\testr\\anaconda3\\Lib\\site-packages\\sklearn\\ensemble\\_forest.py:413: FutureWarning: `max_features='auto'` has been deprecated in 1.1 and will be removed in 1.3. To keep the past behaviour, explicitly set `max_features=1.0` or remove this parameter as it is also the default value for RandomForestRegressors and ExtraTreesRegressors.\n",
            "  warn(\n",
            "c:\\Users\\testr\\anaconda3\\Lib\\site-packages\\sklearn\\ensemble\\_forest.py:413: FutureWarning: `max_features='auto'` has been deprecated in 1.1 and will be removed in 1.3. To keep the past behaviour, explicitly set `max_features=1.0` or remove this parameter as it is also the default value for RandomForestRegressors and ExtraTreesRegressors.\n",
            "  warn(\n",
            "c:\\Users\\testr\\anaconda3\\Lib\\site-packages\\sklearn\\ensemble\\_forest.py:413: FutureWarning: `max_features='auto'` has been deprecated in 1.1 and will be removed in 1.3. To keep the past behaviour, explicitly set `max_features=1.0` or remove this parameter as it is also the default value for RandomForestRegressors and ExtraTreesRegressors.\n",
            "  warn(\n",
            "c:\\Users\\testr\\anaconda3\\Lib\\site-packages\\sklearn\\ensemble\\_forest.py:413: FutureWarning: `max_features='auto'` has been deprecated in 1.1 and will be removed in 1.3. To keep the past behaviour, explicitly set `max_features=1.0` or remove this parameter as it is also the default value for RandomForestRegressors and ExtraTreesRegressors.\n",
            "  warn(\n",
            "c:\\Users\\testr\\anaconda3\\Lib\\site-packages\\sklearn\\ensemble\\_forest.py:413: FutureWarning: `max_features='auto'` has been deprecated in 1.1 and will be removed in 1.3. To keep the past behaviour, explicitly set `max_features=1.0` or remove this parameter as it is also the default value for RandomForestRegressors and ExtraTreesRegressors.\n",
            "  warn(\n",
            "c:\\Users\\testr\\anaconda3\\Lib\\site-packages\\sklearn\\ensemble\\_forest.py:413: FutureWarning: `max_features='auto'` has been deprecated in 1.1 and will be removed in 1.3. To keep the past behaviour, explicitly set `max_features=1.0` or remove this parameter as it is also the default value for RandomForestRegressors and ExtraTreesRegressors.\n",
            "  warn(\n",
            "c:\\Users\\testr\\anaconda3\\Lib\\site-packages\\sklearn\\ensemble\\_forest.py:413: FutureWarning: `max_features='auto'` has been deprecated in 1.1 and will be removed in 1.3. To keep the past behaviour, explicitly set `max_features=1.0` or remove this parameter as it is also the default value for RandomForestRegressors and ExtraTreesRegressors.\n",
            "  warn(\n",
            "c:\\Users\\testr\\anaconda3\\Lib\\site-packages\\sklearn\\ensemble\\_forest.py:413: FutureWarning: `max_features='auto'` has been deprecated in 1.1 and will be removed in 1.3. To keep the past behaviour, explicitly set `max_features=1.0` or remove this parameter as it is also the default value for RandomForestRegressors and ExtraTreesRegressors.\n",
            "  warn(\n",
            "c:\\Users\\testr\\anaconda3\\Lib\\site-packages\\sklearn\\ensemble\\_forest.py:413: FutureWarning: `max_features='auto'` has been deprecated in 1.1 and will be removed in 1.3. To keep the past behaviour, explicitly set `max_features=1.0` or remove this parameter as it is also the default value for RandomForestRegressors and ExtraTreesRegressors.\n",
            "  warn(\n",
            "c:\\Users\\testr\\anaconda3\\Lib\\site-packages\\sklearn\\ensemble\\_forest.py:413: FutureWarning: `max_features='auto'` has been deprecated in 1.1 and will be removed in 1.3. To keep the past behaviour, explicitly set `max_features=1.0` or remove this parameter as it is also the default value for RandomForestRegressors and ExtraTreesRegressors.\n",
            "  warn(\n",
            "c:\\Users\\testr\\anaconda3\\Lib\\site-packages\\sklearn\\ensemble\\_forest.py:413: FutureWarning: `max_features='auto'` has been deprecated in 1.1 and will be removed in 1.3. To keep the past behaviour, explicitly set `max_features=1.0` or remove this parameter as it is also the default value for RandomForestRegressors and ExtraTreesRegressors.\n",
            "  warn(\n",
            "c:\\Users\\testr\\anaconda3\\Lib\\site-packages\\sklearn\\ensemble\\_forest.py:413: FutureWarning: `max_features='auto'` has been deprecated in 1.1 and will be removed in 1.3. To keep the past behaviour, explicitly set `max_features=1.0` or remove this parameter as it is also the default value for RandomForestRegressors and ExtraTreesRegressors.\n",
            "  warn(\n",
            "c:\\Users\\testr\\anaconda3\\Lib\\site-packages\\sklearn\\ensemble\\_forest.py:413: FutureWarning: `max_features='auto'` has been deprecated in 1.1 and will be removed in 1.3. To keep the past behaviour, explicitly set `max_features=1.0` or remove this parameter as it is also the default value for RandomForestRegressors and ExtraTreesRegressors.\n",
            "  warn(\n",
            "c:\\Users\\testr\\anaconda3\\Lib\\site-packages\\sklearn\\ensemble\\_forest.py:413: FutureWarning: `max_features='auto'` has been deprecated in 1.1 and will be removed in 1.3. To keep the past behaviour, explicitly set `max_features=1.0` or remove this parameter as it is also the default value for RandomForestRegressors and ExtraTreesRegressors.\n",
            "  warn(\n",
            "c:\\Users\\testr\\anaconda3\\Lib\\site-packages\\sklearn\\ensemble\\_forest.py:413: FutureWarning: `max_features='auto'` has been deprecated in 1.1 and will be removed in 1.3. To keep the past behaviour, explicitly set `max_features=1.0` or remove this parameter as it is also the default value for RandomForestRegressors and ExtraTreesRegressors.\n",
            "  warn(\n",
            "c:\\Users\\testr\\anaconda3\\Lib\\site-packages\\sklearn\\ensemble\\_forest.py:413: FutureWarning: `max_features='auto'` has been deprecated in 1.1 and will be removed in 1.3. To keep the past behaviour, explicitly set `max_features=1.0` or remove this parameter as it is also the default value for RandomForestRegressors and ExtraTreesRegressors.\n",
            "  warn(\n",
            "c:\\Users\\testr\\anaconda3\\Lib\\site-packages\\sklearn\\ensemble\\_forest.py:413: FutureWarning: `max_features='auto'` has been deprecated in 1.1 and will be removed in 1.3. To keep the past behaviour, explicitly set `max_features=1.0` or remove this parameter as it is also the default value for RandomForestRegressors and ExtraTreesRegressors.\n",
            "  warn(\n",
            "c:\\Users\\testr\\anaconda3\\Lib\\site-packages\\sklearn\\ensemble\\_forest.py:413: FutureWarning: `max_features='auto'` has been deprecated in 1.1 and will be removed in 1.3. To keep the past behaviour, explicitly set `max_features=1.0` or remove this parameter as it is also the default value for RandomForestRegressors and ExtraTreesRegressors.\n",
            "  warn(\n",
            "c:\\Users\\testr\\anaconda3\\Lib\\site-packages\\sklearn\\ensemble\\_forest.py:413: FutureWarning: `max_features='auto'` has been deprecated in 1.1 and will be removed in 1.3. To keep the past behaviour, explicitly set `max_features=1.0` or remove this parameter as it is also the default value for RandomForestRegressors and ExtraTreesRegressors.\n",
            "  warn(\n",
            "c:\\Users\\testr\\anaconda3\\Lib\\site-packages\\sklearn\\ensemble\\_forest.py:413: FutureWarning: `max_features='auto'` has been deprecated in 1.1 and will be removed in 1.3. To keep the past behaviour, explicitly set `max_features=1.0` or remove this parameter as it is also the default value for RandomForestRegressors and ExtraTreesRegressors.\n",
            "  warn(\n",
            "c:\\Users\\testr\\anaconda3\\Lib\\site-packages\\sklearn\\ensemble\\_forest.py:413: FutureWarning: `max_features='auto'` has been deprecated in 1.1 and will be removed in 1.3. To keep the past behaviour, explicitly set `max_features=1.0` or remove this parameter as it is also the default value for RandomForestRegressors and ExtraTreesRegressors.\n",
            "  warn(\n",
            "c:\\Users\\testr\\anaconda3\\Lib\\site-packages\\sklearn\\ensemble\\_forest.py:413: FutureWarning: `max_features='auto'` has been deprecated in 1.1 and will be removed in 1.3. To keep the past behaviour, explicitly set `max_features=1.0` or remove this parameter as it is also the default value for RandomForestRegressors and ExtraTreesRegressors.\n",
            "  warn(\n",
            "c:\\Users\\testr\\anaconda3\\Lib\\site-packages\\sklearn\\ensemble\\_forest.py:413: FutureWarning: `max_features='auto'` has been deprecated in 1.1 and will be removed in 1.3. To keep the past behaviour, explicitly set `max_features=1.0` or remove this parameter as it is also the default value for RandomForestRegressors and ExtraTreesRegressors.\n",
            "  warn(\n",
            "c:\\Users\\testr\\anaconda3\\Lib\\site-packages\\sklearn\\ensemble\\_forest.py:413: FutureWarning: `max_features='auto'` has been deprecated in 1.1 and will be removed in 1.3. To keep the past behaviour, explicitly set `max_features=1.0` or remove this parameter as it is also the default value for RandomForestRegressors and ExtraTreesRegressors.\n",
            "  warn(\n",
            "c:\\Users\\testr\\anaconda3\\Lib\\site-packages\\sklearn\\ensemble\\_forest.py:413: FutureWarning: `max_features='auto'` has been deprecated in 1.1 and will be removed in 1.3. To keep the past behaviour, explicitly set `max_features=1.0` or remove this parameter as it is also the default value for RandomForestRegressors and ExtraTreesRegressors.\n",
            "  warn(\n",
            "c:\\Users\\testr\\anaconda3\\Lib\\site-packages\\sklearn\\ensemble\\_forest.py:413: FutureWarning: `max_features='auto'` has been deprecated in 1.1 and will be removed in 1.3. To keep the past behaviour, explicitly set `max_features=1.0` or remove this parameter as it is also the default value for RandomForestRegressors and ExtraTreesRegressors.\n",
            "  warn(\n"
          ]
        },
        {
          "name": "stdout",
          "output_type": "stream",
          "text": [
            "Best parameters: {'max_depth': None, 'max_features': 'sqrt', 'min_samples_split': 2, 'n_estimators': 1000}\n",
            "Best Random Forest RMSE: 0.8512617188857754\n"
          ]
        }
      ],
      "source": [
        "param_grid = {\n",
        "    'n_estimators': [100, 500, 1000],\n",
        "    'max_depth': [10, 20, None],\n",
        "    'max_features': ['auto', 'sqrt', 'log2'],\n",
        "    'min_samples_split': [2, 5, 10],\n",
        "}\n",
        "\n",
        "grid_search_rf = GridSearchCV(RandomForestRegressor(random_state=42), param_grid, scoring='neg_mean_squared_error', cv=5)\n",
        "grid_search_rf.fit(X_train, y_train)\n",
        "\n",
        "print(\"Best parameters:\", grid_search_rf.best_params_)\n",
        "print(\"Best Random Forest RMSE:\", np.sqrt(-grid_search_rf.best_score_))"
      ]
    },
    {
      "cell_type": "code",
      "execution_count": 13,
      "metadata": {
        "colab": {
          "base_uri": "https://localhost:8080/"
        },
        "id": "KD88PWvEE3Wh",
        "outputId": "f3cd42e6-b92c-42e4-b6fb-3a837cbee8da"
      },
      "outputs": [
        {
          "name": "stdout",
          "output_type": "stream",
          "text": [
            "Random Forest RMSE (original scale): 17152\n"
          ]
        }
      ],
      "source": [
        "#mms2 is minmaxscaler for target\n",
        "y_pred_rf_original = mms2.inverse_transform(rf.predict(X_test).reshape(-1, 1))\n",
        "y_test_original = mms2.inverse_transform(y_test.values.reshape(-1, 1))\n",
        "\n",
        "from sklearn.metrics import mean_squared_error\n",
        "import numpy as np\n",
        "\n",
        "rmse_rf_original = np.sqrt(mean_squared_error(y_test_original, y_pred_rf_original))\n",
        "print(f\"Random Forest RMSE (original scale): {rmse_rf_original}\")"
      ]
    },
    {
      "cell_type": "markdown",
      "metadata": {
        "id": "SFgxe777E3Wi"
      },
      "source": [
        "# XGBoost"
      ]
    },
    {
      "cell_type": "code",
      "execution_count": null,
      "metadata": {
        "id": "WcaifdwFE3Wj",
        "outputId": "b9486186-c6d5-46be-c1fc-62b237bfaf63"
      },
      "outputs": [
        {
          "name": "stdout",
          "output_type": "stream",
          "text": [
            "Requirement already satisfied: xgboost in c:\\users\\testr\\anaconda3\\lib\\site-packages (2.1.2)\n",
            "Requirement already satisfied: numpy in c:\\users\\testr\\anaconda3\\lib\\site-packages (from xgboost) (1.26.4)\n",
            "Requirement already satisfied: scipy in c:\\users\\testr\\anaconda3\\lib\\site-packages (from xgboost) (1.11.4)\n"
          ]
        }
      ],
      "source": [
        "!pip install xgboost"
      ]
    },
    {
      "cell_type": "code",
      "execution_count": 12,
      "metadata": {
        "colab": {
          "base_uri": "https://localhost:8080/"
        },
        "id": "5VJtw52ME3Wj",
        "outputId": "9d701f4f-330c-4ce2-f318-bfca8ec9b415"
      },
      "outputs": [
        {
          "name": "stdout",
          "output_type": "stream",
          "text": [
            "Best Parameters for XGBoost: {'colsample_bytree': 0.8, 'learning_rate': 0.01, 'max_depth': 3, 'n_estimators': 1000, 'subsample': 0.8}\n",
            " XGBoost RMSE: 0.05718\n"
          ]
        }
      ],
      "source": [
        "import xgboost as xgb\n",
        "from sklearn.metrics import mean_squared_error\n",
        "from sklearn.model_selection import train_test_split, GridSearchCV\n",
        "from sklearn.preprocessing import StandardScaler\n",
        "\n",
        "mms_salary = StandardScaler()\n",
        "df['Average Salary'] = mms_salary.fit_transform(df[['Average Salary']])\n",
        "\n",
        "X = df.drop(columns=['Average Salary'], axis=1)\n",
        "y = df['Average Salary']\n",
        "\n",
        "X_train, X_test, y_train, y_test = train_test_split(X, y, test_size=0.2, random_state=42)\n",
        "\n",
        "xgb_model = xgb.XGBRegressor(objective='reg:squarederror', n_estimators=1000, learning_rate=0.01)\n",
        "\n",
        "param_grid = {\n",
        "    'max_depth': [3, 5, 7],\n",
        "    'learning_rate': [0.01, 0.05, 0.1],\n",
        "    'n_estimators': [500, 1000],\n",
        "    'subsample': [0.8, 1],\n",
        "    'colsample_bytree': [0.8, 1]\n",
        "}\n",
        "\n",
        "grid_search = GridSearchCV(estimator=xgb_model, param_grid=param_grid, scoring='neg_mean_squared_error', cv=5)\n",
        "grid_search.fit(X_train, y_train)\n",
        "\n",
        "best_params = grid_search.best_params_\n",
        "print(\"Best Parameters for XGBoost:\", best_params)\n",
        "\n",
        "best_xgb_model = grid_search.best_estimator_\n",
        "\n",
        "y_pred = best_xgb_model.predict(X_test)\n",
        "\n",
        "y_pred_original = mms_salary.inverse_transform(y_pred.reshape(-1, 1))\n",
        "\n",
        "rmse = mean_squared_error(y_test, y_pred, squared=False)\n",
        "print(f\"XGBoost RMSE: {rmse}\")"
      ]
    },
    {
      "cell_type": "markdown",
      "metadata": {
        "id": "MY3AaghiE3Wj"
      },
      "source": [
        "# \"All Models with Preprocessing and Training Combined"
      ]
    },
    {
      "cell_type": "code",
      "execution_count": 7,
      "metadata": {
        "id": "6YvzjnAqKlfW"
      },
      "outputs": [],
      "source": [
        "import pandas as pd\n",
        "pd.set_option('display.float_format', lambda x: '%.4f' % x)"
      ]
    },
    {
      "cell_type": "code",
      "execution_count": 1,
      "metadata": {
        "id": "v-i9eFZ3E3Wk"
      },
      "outputs": [],
      "source": [
        "import pandas as pd\n",
        "import numpy as np\n",
        "from sklearn.model_selection import train_test_split, GridSearchCV, RandomizedSearchCV\n",
        "from sklearn.preprocessing import MinMaxScaler, StandardScaler\n",
        "from sklearn.metrics import mean_squared_error, r2_score\n",
        "from sklearn.linear_model import Ridge, Lasso, LinearRegression\n",
        "from sklearn.ensemble import RandomForestRegressor, GradientBoostingRegressor\n",
        "import warnings\n",
        "warnings.filterwarnings('ignore')\n",
        "\n",
        "class SalaryPredictor:\n",
        "    def __init__(self):\n",
        "        self.scalers = {}\n",
        "        self.models = {}\n",
        "        self.feature_names = None\n",
        "\n",
        "    def load_and_preprocess(self, filepath):\n",
        "        df = pd.read_csv(filepath)\n",
        "        if 'Unnamed: 0' in df.columns:\n",
        "            df.drop(['Unnamed: 0','Salary Estimate','Job Description','Location','Founded','URL','Job Title','Minimum Salary','Maximum Salary'], axis=1, inplace=True)\n",
        "        numerical_features = ['Company Age', 'Rating']\n",
        "        self.scalers['numerical'] = MinMaxScaler()\n",
        "        df[numerical_features] = self.scalers['numerical'].fit_transform(df[numerical_features])\n",
        "\n",
        "        self.scalers['target'] = MinMaxScaler()\n",
        "        df['Average Salary'] = self.scalers['target'].fit_transform(df[['Average Salary']])\n",
        "\n",
        "        df_encoded = pd.get_dummies(df)\n",
        "\n",
        "        self.feature_names = [col for col in df_encoded.columns if col != 'Average Salary']\n",
        "        X = df_encoded[self.feature_names]\n",
        "        y = df_encoded['Average Salary']\n",
        "\n",
        "        return train_test_split(X, y, test_size=0.3, random_state=42)\n",
        "\n",
        "    def train_ridge(self, X_train, X_test, y_train, y_test):\n",
        "        params = {\n",
        "            'alpha': [0.01, 0.1, 1.0, 10.0],\n",
        "            'solver': ['auto', 'svd', 'cholesky']\n",
        "        }\n",
        "        ridge = Ridge()\n",
        "        grid_search = GridSearchCV(ridge, params, cv=5, scoring='neg_mean_squared_error')\n",
        "        grid_search.fit(X_train, y_train)\n",
        "\n",
        "        self.models['ridge'] = grid_search.best_estimator_\n",
        "        return self._evaluate_model('ridge', X_test, y_test)\n",
        "\n",
        "    def train_linear_regression(self, X_train, X_test, y_train, y_test):\n",
        "        lr=LinearRegression()\n",
        "        lr.fit(X_train,y_train)\n",
        "        self.models['linear']=lr\n",
        "        return self._evaluate_model('linear',X_test,y_test)\n",
        "\n",
        "    def train_lasso(self, X_train, X_test, y_train, y_test):\n",
        "        params = {\n",
        "            'alpha': [0.001, 0.01, 0.1, 1.0],\n",
        "            'selection': ['cyclic', 'random']\n",
        "        }\n",
        "        lasso = Lasso()\n",
        "        grid_search = GridSearchCV(lasso, params, cv=5, scoring='neg_mean_squared_error')\n",
        "        grid_search.fit(X_train, y_train)\n",
        "\n",
        "        self.models['lasso'] = grid_search.best_estimator_\n",
        "\n",
        "        feature_importance = pd.Series(\n",
        "            grid_search.best_estimator_.coef_,\n",
        "            index=self.feature_names\n",
        "        )\n",
        "        important_features = feature_importance[feature_importance != 0].index\n",
        "\n",
        "        return important_features, self._evaluate_model('lasso', X_test, y_test)\n",
        "\n",
        "    def train_random_forest(self, X_train, X_test, y_train, y_test):\n",
        "        params = {\n",
        "            'n_estimators': [100, 200, 300],\n",
        "            'max_depth': [10, 20, 30, None],\n",
        "            'min_samples_split': [2, 5, 10],\n",
        "            'min_samples_leaf': [1, 2, 4]\n",
        "        }\n",
        "        rf = RandomForestRegressor(random_state=42)\n",
        "        grid_search = RandomizedSearchCV(rf, params, n_iter=20, cv=5,\n",
        "                                       scoring='neg_mean_squared_error', random_state=42)\n",
        "        grid_search.fit(X_train, y_train)\n",
        "\n",
        "        self.models['rf'] = grid_search.best_estimator_\n",
        "        return self._evaluate_model('rf', X_test, y_test)\n",
        "\n",
        "    def train_gradient_boost(self, X_train, X_test, y_train, y_test):\n",
        "        params = {\n",
        "            'n_estimators': [100, 200, 300],\n",
        "            'learning_rate': [0.01, 0.1, 0.2],\n",
        "            'max_depth': [3, 5, 7],\n",
        "            'subsample': [0.8, 1.0]\n",
        "        }\n",
        "        gboost = GradientBoostingRegressor(random_state=42)\n",
        "        grid_search = GridSearchCV(gboost, params, cv=5, scoring='neg_mean_squared_error')\n",
        "        grid_search.fit(X_train, y_train)\n",
        "\n",
        "        self.models['gboost'] = grid_search.best_estimator_\n",
        "        return self._evaluate_model('gboost', X_test, y_test)\n",
        "\n",
        "\n",
        "\n",
        "    def _evaluate_model(self, model_name, X_test, y_test):\n",
        "        predictions = self.models[model_name].predict(X_test)\n",
        "        mse = mean_squared_error(y_test, predictions)\n",
        "        rmse = np.sqrt(mse)\n",
        "        r2 = r2_score(y_test, predictions)\n",
        "\n",
        "        predictions_original = self.scalers['target'].inverse_transform(\n",
        "            predictions.reshape(-1, 1)\n",
        "        ).flatten()\n",
        "\n",
        "        return {\n",
        "            'rmse': rmse,\n",
        "            'r2': r2,\n",
        "            'predictions': predictions_original\n",
        "        }\n",
        "\n",
        "    def predict(self, X_new, model_name='xgb'):\n",
        "        if model_name not in self.models:\n",
        "            raise ValueError(f\"Model {model_name} not trained yet\")\n",
        "\n",
        "        predictions = self.models[model_name].predict(X_new)\n",
        "        return self.scalers['target'].inverse_transform(\n",
        "            predictions.reshape(-1, 1)\n",
        "        ).flatten()\n",
        "\n",
        "    def evaluate_all_models(self, X_test, y_test):\n",
        "        results = []\n",
        "\n",
        "        for model_name, model in self.models.items():\n",
        "            predictions = model.predict(X_test)\n",
        "\n",
        "            mse = mean_squared_error(y_test, predictions)\n",
        "            rmse = np.sqrt(mse)\n",
        "            r2 = r2_score(y_test, predictions)\n",
        "\n",
        "            predictions_original = self.scalers['target'].inverse_transform(\n",
        "                predictions.reshape(-1, 1)\n",
        "            ).flatten()\n",
        "            y_test_original = self.scalers['target'].inverse_transform(\n",
        "                y_test.values.reshape(-1, 1)\n",
        "            ).flatten()\n",
        "\n",
        "            mse_original = mean_squared_error(y_test_original, predictions_original)\n",
        "            rmse_original = np.sqrt(mse_original)\n",
        "            results.append({\n",
        "            'Model': model_name,\n",
        "            'RMSE (Scaled)': rmse,\n",
        "            'R² (Scaled)': r2,\n",
        "            'RMSE (Original)': rmse_original\n",
        "            })\n",
        "\n",
        "        results_df = pd.DataFrame(results)\n",
        "        results_df = results_df.sort_values(by='RMSE (Scaled)').reset_index(drop=True)\n",
        "\n",
        "        return results_df"
      ]
    },
    {
      "cell_type": "code",
      "execution_count": 2,
      "metadata": {
        "colab": {
          "base_uri": "https://localhost:8080/"
        },
        "id": "XbMrSpguE3Wk",
        "outputId": "6bea72d7-f9fb-48b5-99d9-ef932b85d9ae"
      },
      "outputs": [
        {
          "name": "stdout",
          "output_type": "stream",
          "text": [
            "    Model  RMSE (Scaled)   R² (Scaled)  RMSE (Original)\n",
            "0   ridge   1.042941e-01  3.133255e-01     4.171762e+04\n",
            "1      rf   1.044024e-01  3.118987e-01     4.176094e+04\n",
            "2   lasso   1.087262e-01  2.537231e-01     4.349047e+04\n",
            "3  gboost   1.096776e-01  2.406047e-01     4.387105e+04\n",
            "4  linear   1.591877e+12 -1.599744e+26     6.367506e+17\n"
          ]
        }
      ],
      "source": [
        "predictor = SalaryPredictor()\n",
        "X_train, X_test, y_train, y_test = predictor.load_and_preprocess('Data Science Jobs preprocessed.csv')\n",
        "\n",
        "ridge_results = predictor.train_ridge(X_train, X_test, y_train, y_test)\n",
        "linear_results=predictor.train_linear_regression(X_train,X_test,y_train,y_test)\n",
        "lasso_features, lasso_results = predictor.train_lasso(X_train, X_test, y_train, y_test)\n",
        "rf_results = predictor.train_random_forest(X_train, X_test, y_train, y_test)\n",
        "gboost_results = predictor.train_gradient_boost(X_train, X_test, y_train, y_test)\n",
        "\n",
        "evaluation_results = predictor.evaluate_all_models(X_test, y_test)\n",
        "print(evaluation_results)"
      ]
    },
    {
      "cell_type": "markdown",
      "metadata": {
        "id": "tG6isQF3Ukoe"
      },
      "source": [
        "# ANN"
      ]
    },
    {
      "cell_type": "code",
      "execution_count": 23,
      "metadata": {
        "colab": {
          "base_uri": "https://localhost:8080/"
        },
        "id": "kLtMUL0ZTUKL",
        "outputId": "1a563f25-ea7e-4966-8550-180a7fcf746f"
      },
      "outputs": [
        {
          "data": {
            "text/plain": [
              "(502, 584)"
            ]
          },
          "execution_count": 23,
          "metadata": {},
          "output_type": "execute_result"
        }
      ],
      "source": [
        "X_train.shape"
      ]
    },
    {
      "cell_type": "code",
      "execution_count": 24,
      "metadata": {
        "colab": {
          "base_uri": "https://localhost:8080/"
        },
        "id": "WS_F07w5SOwN",
        "outputId": "ae00a274-8aaa-4fef-866c-bca50fe7b200"
      },
      "outputs": [
        {
          "name": "stdout",
          "output_type": "stream",
          "text": [
            "Model: \"sequential_1\"\n",
            "_________________________________________________________________\n",
            " Layer (type)                Output Shape              Param #   \n",
            "=================================================================\n",
            " dense_4 (Dense)             (None, 128)               64384     \n",
            "                                                                 \n",
            " dropout_3 (Dropout)         (None, 128)               0         \n",
            "                                                                 \n",
            " dense_5 (Dense)             (None, 64)                8256      \n",
            "                                                                 \n",
            " dropout_4 (Dropout)         (None, 64)                0         \n",
            "                                                                 \n",
            " dense_6 (Dense)             (None, 32)                2080      \n",
            "                                                                 \n",
            " dropout_5 (Dropout)         (None, 32)                0         \n",
            "                                                                 \n",
            " dense_7 (Dense)             (None, 1)                 33        \n",
            "                                                                 \n",
            "=================================================================\n",
            "Total params: 74753 (292.00 KB)\n",
            "Trainable params: 74753 (292.00 KB)\n",
            "Non-trainable params: 0 (0.00 Byte)\n",
            "_________________________________________________________________\n"
          ]
        }
      ],
      "source": [
        "from tensorflow.keras.models import Sequential\n",
        "from tensorflow.keras.layers import Dense, Dropout\n",
        "\n",
        "# Define the ANN model\n",
        "model = Sequential([\n",
        "    Dense(128, activation='relu', input_shape=(X_train.shape[0],)),\n",
        "    Dropout(0.3),\n",
        "    Dense(64, activation='relu'),\n",
        "    Dropout(0.3),\n",
        "    Dense(32, activation='relu'),\n",
        "    Dropout(0.2),\n",
        "    Dense(1, activation='linear')\n",
        "])\n",
        "\n",
        "model.compile(optimizer='adam', loss='mse', metrics=['mae'])\n",
        "model.summary()"
      ]
    },
    {
      "cell_type": "code",
      "execution_count": null,
      "metadata": {
        "id": "Fi98Q2DETgr4"
      },
      "outputs": [],
      "source": [
        "model.fit(X_train,y_train, batch_size=32, epochs=250)"
      ]
    },
    {
      "cell_type": "code",
      "execution_count": 25,
      "metadata": {
        "colab": {
          "base_uri": "https://localhost:8080/"
        },
        "id": "1bdOw6hnTpcH",
        "outputId": "79b1d049-4088-4ca1-faea-3e69806e43b2"
      },
      "outputs": [
        {
          "name": "stdout",
          "output_type": "stream",
          "text": [
            "1/1 ━━━━━━━━━━━━━━━━━━━━ 0s 33ms/step\n"
          ]
        }
      ],
      "source": [
        "result = model.predict(X_test)"
      ]
    },
    {
      "cell_type": "code",
      "execution_count": 27,
      "metadata": {
        "colab": {
          "base_uri": "https://localhost:8080/"
        },
        "id": "a8dwmciuTyxv",
        "outputId": "a9631775-bc2e-440c-a827-615c82d3b493"
      },
      "outputs": [
        {
          "name": "stdout",
          "output_type": "stream",
          "text": [
            "r2:  0.8949\n",
            "rmse (Scaled):  0.0422\n"
          ]
        }
      ],
      "source": [
        "mse = mean_squared_error(y_test, result)\n",
        "rmse = np.sqrt(mse)\n",
        "r2 = r2_score(y_test, result)\n",
        "print(\"r2: \",r2)\n",
        "print(\"rmse (Scaled): \",rmse)"
      ]
    }
  ],
  "metadata": {
    "accelerator": "TPU",
    "colab": {
      "gpuType": "V28",
      "provenance": []
    },
    "kernelspec": {
      "display_name": "base",
      "language": "python",
      "name": "python3"
    },
    "language_info": {
      "codemirror_mode": {
        "name": "ipython",
        "version": 3
      },
      "file_extension": ".py",
      "mimetype": "text/x-python",
      "name": "python",
      "nbconvert_exporter": "python",
      "pygments_lexer": "ipython3",
      "version": "3.11.7"
    }
  },
  "nbformat": 4,
  "nbformat_minor": 0
}
